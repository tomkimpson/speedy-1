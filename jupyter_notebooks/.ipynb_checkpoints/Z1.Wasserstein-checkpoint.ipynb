{
 "cells": [
  {
   "cell_type": "code",
   "execution_count": 10,
   "id": "2cecc88b",
   "metadata": {},
   "outputs": [
    {
     "name": "stdout",
     "output_type": "stream",
     "text": [
      "here inside func\n",
      "['/network/group/aopp/predict/TIP016_PAXTON_RPSPEEDY/speedyone/paper/10yearWD/backups/speedyone10yr_L2_52_RN_m4_WD']\n",
      "Loading control data from /network/group/aopp/predict/TIP016_PAXTON_RPSPEEDY/speedyone/paper/10yearWD/backups/speedyone10yr_L2_52_RN_m4_WD\n"
     ]
    },
    {
     "data": {
      "application/vnd.jupyter.widget-view+json": {
       "model_id": "3dcbf0e48aaa4a82a392ca879996b46d",
       "version_major": 2,
       "version_minor": 0
      },
      "text/plain": [
       "  0%|          | 0/11 [00:00<?, ?it/s]"
      ]
     },
     "metadata": {},
     "output_type": "display_data"
    },
    {
     "name": "stdout",
     "output_type": "stream",
     "text": [
      "Loading competitor data from /network/group/aopp/predict/TIP016_PAXTON_RPSPEEDY/speedyone/paper/10yearWD/speedyone10yr_L2_52_RN_m5_WD\n"
     ]
    },
    {
     "data": {
      "application/vnd.jupyter.widget-view+json": {
       "model_id": "12596a6a31cf489593820bf412084ce7",
       "version_major": 2,
       "version_minor": 0
      },
      "text/plain": [
       "  0%|          | 0/11 [00:00<?, ?it/s]"
      ]
     },
     "metadata": {},
     "output_type": "display_data"
    },
    {
     "name": "stdout",
     "output_type": "stream",
     "text": [
      "365 1 3651 10\n",
      "4 5 365 0.2835934177154671\n",
      "730 2 3651 10\n",
      "4 5 730 0.26086495175586877\n",
      "1095 3 3651 10\n",
      "4 5 1095 0.24632092739757283\n",
      "1460 4 3651 10\n",
      "4 5 1460 0.23643222243045559\n",
      "1825 5 3651 10\n",
      "4 5 1825 0.22955230441419383\n",
      "2190 6 3651 10\n",
      "4 5 2190 0.22445829162729153\n",
      "2555 7 3651 10\n",
      "4 5 2555 0.22045907979802098\n",
      "2920 8 3651 10\n",
      "4 5 2920 0.2175314735088578\n",
      "3285 9 3651 10\n",
      "4 5 3285 0.2147758749064952\n",
      "3651 10 3651 10\n",
      "4 5 3651 0.21246588839470754\n",
      "Loading competitor data from /network/group/aopp/predict/TIP016_PAXTON_RPSPEEDY/speedyone/paper/10yearWD/speedyone10yr_L2_52_RN_m6_WD\n"
     ]
    },
    {
     "data": {
      "application/vnd.jupyter.widget-view+json": {
       "model_id": "48f3c1a125654df293b0c2216f7948ba",
       "version_major": 2,
       "version_minor": 0
      },
      "text/plain": [
       "  0%|          | 0/11 [00:00<?, ?it/s]"
      ]
     },
     "metadata": {},
     "output_type": "display_data"
    },
    {
     "name": "stdout",
     "output_type": "stream",
     "text": [
      "365 1 3651 10\n",
      "4 6 365 0.30160157736236387\n",
      "730 2 3651 10\n",
      "4 6 730 0.2787654881529997\n",
      "1095 3 3651 10\n",
      "4 6 1095 0.2645330511461248\n",
      "1460 4 3651 10\n",
      "4 6 1460 0.25505530938151694\n",
      "1825 5 3651 10\n",
      "4 6 1825 0.24809713768441602\n",
      "2190 6 3651 10\n",
      "4 6 2190 0.24258099223941995\n",
      "2555 7 3651 10\n",
      "4 6 2555 0.23803716029594776\n",
      "2920 8 3651 10\n",
      "4 6 2920 0.2344521598886215\n",
      "3285 9 3651 10\n",
      "4 6 3285 0.23150970591888045\n",
      "3651 10 3651 10\n",
      "4 6 3651 0.22887673143319187\n",
      "Loading competitor data from /network/group/aopp/predict/TIP016_PAXTON_RPSPEEDY/speedyone/paper/10yearWD/speedyone10yr_L2_52_RN_m7_WD\n"
     ]
    },
    {
     "data": {
      "application/vnd.jupyter.widget-view+json": {
       "model_id": "22f79609558145e8be33e850f4990489",
       "version_major": 2,
       "version_minor": 0
      },
      "text/plain": [
       "  0%|          | 0/11 [00:00<?, ?it/s]"
      ]
     },
     "metadata": {},
     "output_type": "display_data"
    },
    {
     "name": "stdout",
     "output_type": "stream",
     "text": [
      "365 1 3651 10\n",
      "4 7 365 0.28858636179191977\n",
      "730 2 3651 10\n",
      "4 7 730 0.2652678987608452\n",
      "1095 3 3651 10\n",
      "4 7 1095 0.2509125747671658\n",
      "1460 4 3651 10\n",
      "4 7 1460 0.2410749363225863\n",
      "1825 5 3651 10\n",
      "4 7 1825 0.23423565159485094\n",
      "2190 6 3651 10\n",
      "4 7 2190 0.22907425991248256\n",
      "2555 7 3651 10\n",
      "4 7 2555 0.2251462997234085\n",
      "2920 8 3651 10\n",
      "4 7 2920 0.22220376402503483\n",
      "3285 9 3651 10\n",
      "4 7 3285 0.21975851650463799\n",
      "3651 10 3651 10\n",
      "4 7 3651 0.2174319726209587\n",
      "Loading competitor data from /network/group/aopp/predict/TIP016_PAXTON_RPSPEEDY/speedyone/paper/10yearWD/speedyone10yr_L2_52_RN_m8_WD\n"
     ]
    },
    {
     "data": {
      "application/vnd.jupyter.widget-view+json": {
       "model_id": "85d9076785de41f3833f5a492d890275",
       "version_major": 2,
       "version_minor": 0
      },
      "text/plain": [
       "  0%|          | 0/11 [00:00<?, ?it/s]"
      ]
     },
     "metadata": {},
     "output_type": "display_data"
    },
    {
     "name": "stdout",
     "output_type": "stream",
     "text": [
      "365 1 3651 10\n",
      "4 8 365 0.29477702668482364\n",
      "730 2 3651 10\n",
      "4 8 730 0.2721106887269231\n",
      "1095 3 3651 10\n",
      "4 8 1095 0.25778147181464345\n",
      "1460 4 3651 10\n",
      "4 8 1460 0.24845001694923236\n",
      "1825 5 3651 10\n",
      "4 8 1825 0.2419503827827116\n",
      "2190 6 3651 10\n",
      "4 8 2190 0.2370247910350408\n",
      "2555 7 3651 10\n",
      "4 8 2555 0.23296331864173433\n",
      "2920 8 3651 10\n",
      "4 8 2920 0.22970421169324565\n",
      "3285 9 3651 10\n",
      "4 8 3285 0.22652649037278433\n",
      "3651 10 3651 10\n",
      "4 8 3651 0.22380276943912547\n",
      "Loading competitor data from /network/group/aopp/predict/TIP016_PAXTON_RPSPEEDY/speedyone/paper/10yearWD/speedyone10yr_L2_52_RN_m9_WD\n"
     ]
    },
    {
     "data": {
      "application/vnd.jupyter.widget-view+json": {
       "model_id": "d8617f5bd2c24785b8a34a9af3d489b4",
       "version_major": 2,
       "version_minor": 0
      },
      "text/plain": [
       "  0%|          | 0/11 [00:00<?, ?it/s]"
      ]
     },
     "metadata": {},
     "output_type": "display_data"
    },
    {
     "name": "stdout",
     "output_type": "stream",
     "text": [
      "365 1 3651 10\n",
      "4 9 365 0.2865001494145903\n",
      "730 2 3651 10\n",
      "4 9 730 0.2621499748718572\n",
      "1095 3 3651 10\n",
      "4 9 1095 0.24612378134992388\n",
      "1460 4 3651 10\n",
      "4 9 1460 0.2352933582717093\n",
      "1825 5 3651 10\n",
      "4 9 1825 0.22746888829871892\n",
      "2190 6 3651 10\n",
      "4 9 2190 0.22189957788784243\n",
      "2555 7 3651 10\n",
      "4 9 2555 0.21723219099694535\n",
      "2920 8 3651 10\n",
      "4 9 2920 0.21390268194345732\n",
      "3285 9 3651 10\n",
      "4 9 3285 0.2109323052180026\n",
      "3651 10 3651 10\n",
      "4 9 3651 0.20856621138243345\n"
     ]
    }
   ],
   "source": [
    "from scipy.stats import wasserstein_distance as wd\n",
    "\n",
    "\n",
    "\n",
    "#Import everything\n",
    "import xarray as xr\n",
    "import numpy as np\n",
    "import matplotlib.pyplot as plt\n",
    "import time\n",
    "import glob\n",
    "import pandas as pd\n",
    "import seaborn as sns\n",
    "import sys\n",
    "from collections import defaultdict\n",
    "from tqdm.notebook import tqdm\n",
    "import matplotlib as mpl\n",
    "\n",
    "\n",
    "\n",
    "\n",
    "\n",
    "def extract_file_data(df,columns):\n",
    "    \n",
    "    surface = df.sel(pressure=925.0)\n",
    "        \n",
    "    data = surface.to_dataframe()[columns]\n",
    "    \n",
    "    return data\n",
    "\n",
    "\n",
    " \n",
    "def process_nc_file(fname,weights,true_latitude,columns):    \n",
    "    \n",
    "        #Get data \n",
    "        df = xr.open_dataset(fname)\n",
    "        \n",
    "        \n",
    "        #Reset the latitude\n",
    "        df = df.assign_coords(latitude=(true_latitude))\n",
    "        \n",
    "\n",
    "       \n",
    "        #Get the data you want     \n",
    "        grid_data = extract_file_data(df,columns)\n",
    "        \n",
    "\n",
    "        \n",
    "        return grid_data\n",
    "\n",
    "def process_directory(directory,weights,true_lat,columns):\n",
    "\n",
    "    \n",
    "    #Empty arrays to hold data\n",
    "    dfs = []\n",
    "    \n",
    "    nc_files = sorted(glob.glob(directory+'/model_output*.nc')) #Dont process last file which is only super short\n",
    "                \n",
    "    for n in tqdm(nc_files): #for every model.nc file\n",
    "\n",
    "        df_snapshot = process_nc_file(n,weights,true_lat,columns)\n",
    "        dfs.append(df_snapshot)\n",
    "        \n",
    "    df = pd.concat(dfs,ignore_index=False)\n",
    "    \n",
    "    return df \n",
    "\n",
    "\n",
    "        \n",
    "    \n",
    "def get_global_weights():\n",
    "    \n",
    "     #Get the latitude weights from a special location\n",
    "    r1 = '/network/group/aopp/predict/TIP016_PAXTON_RPSPEEDY/speedyone/paper/Fig1_10year_Williams/'\n",
    "    f = r1 + 'speedyoneWILLIAMS_L2_52_RN_10y/model_output00001.nc'\n",
    "    df = xr.open_dataset(f)\n",
    "    \n",
    "    temp_file = df.temperature\n",
    "    weights = np.cos(np.deg2rad(temp_file.latitude))\n",
    "         \n",
    "    weights.name = \"weights\"\n",
    "    \n",
    "    \n",
    "    return weights, temp_file.latitude   \n",
    "\n",
    "\n",
    "def compare_ensemble_against_control(control_dirs,competitor_dirs,columns):\n",
    "    print('here inside func')\n",
    "    print (control_dirs)\n",
    "    \n",
    "    \n",
    "    #Get weights and correct latitudes now\n",
    "    weights,latitude = get_global_weights()\n",
    "    \n",
    "    #Create an array that will hold all the data you are about\n",
    "    lenT = 10\n",
    "    out_array = np.zeros((lenT*len(control_dirs)*len(competitor_dirs),4))\n",
    "    global_counter = 0\n",
    "    \n",
    "    for i in control_dirs:\n",
    "        print ('Loading control data from', i)\n",
    "        #Get the dataframe\n",
    "        df_i = process_directory(i,weights,latitude,columns)\n",
    "        #Get the dimensions: x,y,time\n",
    "        long_idx = df_i.index.unique(level='longitude') #length 96\n",
    "        lat_idx = df_i.index.unique(level='latitude') #length 48\n",
    "        t_idx = df_i.index.unique(level='forecast_period') #length 3651\n",
    "\n",
    "        \n",
    "        ensemble_number_control = i.split('_m')[-1][0]\n",
    "\n",
    "        #Convert to a numpy array\n",
    "        np_control = np.array(df_i.values.reshape(len(long_idx),len(lat_idx),len(t_idx)))\n",
    "        for j in tqdm(competitor_dirs):\n",
    "            print ('Loading competitor data from', j)\n",
    "            ensemble_number_competitor=j.split('_m')[-1][0]\n",
    "                       \n",
    "            #Get the competitor dataframe \n",
    "            df_j = process_directory(j,weights,latitude,columns)\n",
    "            #...and also make this a numpy array\n",
    "            np_competitor = np.array(df_j.values.reshape(len(long_idx),len(lat_idx),len(t_idx)))\n",
    "\n",
    "            \n",
    "            #Get the WD between i and j, averaged across every grid point, up to a time t\n",
    "          \n",
    "            for t in range(1,lenT+1):\n",
    "                tfactor = int(t * len(t_idx)/lenT)\n",
    "                #print(tfactor,t,len(t_idx),lenT)\n",
    "                wasserstein_t_weighted = []\n",
    "                wasserstein_t_unweighted = []\n",
    "                for k in range(len(long_idx)):\n",
    "                    for m in range(len(lat_idx)):\n",
    "                        wasserstein= wd(np_competitor[k,m,0:tfactor], np_control[k,m,0:tfactor])\n",
    "                        wasserstein_weighted = weights[m].values*wasserstein #Weight the value by the latitude weight\n",
    "\n",
    "\n",
    "                        wasserstein_t_weighted.extend([wasserstein_weighted])\n",
    "                        wasserstein_t_unweighted.extend([wasserstein])\n",
    "                \n",
    "                #Output to the global np array\n",
    "                print(ensemble_number_control,ensemble_number_competitor,tfactor, np.mean(wasserstein_t_weighted))\n",
    "                out_array[global_counter,:] = ensemble_number_control,ensemble_number_competitor,tfactor, np.mean(wasserstein_t_weighted)\n",
    "                global_counter = global_counter +1\n",
    "                \n",
    "                \n",
    "    return out_array\n",
    "                \n",
    "                        \n",
    "\n",
    "columns = ['temperature']\n",
    "\n",
    "\n",
    "\n",
    "root = '/network/group/aopp/predict/TIP016_PAXTON_RPSPEEDY/speedyone/paper/10yearWD/'\n",
    "\n",
    "\n",
    "control_dirs = []\n",
    "#control_dirs = ['/network/group/aopp/predict/TIP016_PAXTON_RPSPEEDY/speedyone/paper/10yearWD/backups/speedyone10yr_L2_52_RN_m4_WD']\n",
    "for m in range(0,4+1):\n",
    "    dir_name = root + f'speedyone10yr_L2_52_RN_m{m}_WD'\n",
    "    control_dirs.append(dir_name)\n",
    " \n",
    "\n",
    "\n",
    "competitor_dirs = []\n",
    "for m in range(5,9+1):\n",
    "    dir_name = root + f'speedyone10yr_L2_52_RN_m{m}_WD'\n",
    "    competitor_dirs.append(dir_name)\n",
    " \n",
    "\n",
    "\n",
    "output = compare_ensemble_against_control(control_dirs,competitor_dirs,columns)\n",
    "np.save(root+'throwawayWD.npy',output)\n",
    "\n",
    "\n"
   ]
  },
  {
   "cell_type": "markdown",
   "id": "61c59d7b-d67a-463d-9939-e9d2a62550ca",
   "metadata": {},
   "source": [
    "# Process all ensemble members"
   ]
  },
  {
   "cell_type": "code",
   "execution_count": 13,
   "id": "fe2da157-b4e1-47de-8d66-64ed3f4df594",
   "metadata": {},
   "outputs": [],
   "source": [
    "data = np.load(root+'throwawayWD.npy')\n",
    "   # p = f.split('/')[-1].split('.')[0]\n",
    "df = pd.DataFrame({'Control': data[:, 0], 'Competitor': data[:, 1], 'Time':data[:, 2],'WD': data[:, 3]})\n",
    "   # dfs.append(df)\n"
   ]
  },
  {
   "cell_type": "code",
   "execution_count": 14,
   "id": "d1d2a2f1-a6c6-4821-a63b-c0c606396286",
   "metadata": {},
   "outputs": [],
   "source": [
    "#Convert time to years\n",
    "df['Time'] = df['Time'] / 365 \n",
    "\n",
    "#Average over each competitor\n",
    "dfmean = df.groupby(['Time']).mean().drop(['Control','Competitor'],axis=1)\n",
    "\n",
    "#Plot it\n",
    "#plot_WD(xmean,save=False,plot_error=False)"
   ]
  },
  {
   "cell_type": "code",
   "execution_count": 16,
   "id": "728a25b9-92a5-483e-92d8-4295d692b583",
   "metadata": {},
   "outputs": [],
   "source": [
    "dfmean['precision'] = '52_RN'"
   ]
  },
  {
   "cell_type": "code",
   "execution_count": 17,
   "id": "a167a0a6-e466-46c3-bddd-a63d7a56f4cc",
   "metadata": {},
   "outputs": [],
   "source": [
    "def plot_WD(df):\n",
    "    #Setup plot env\n",
    "    #Setup plot env\n",
    "    h,w = 12,12\n",
    "\n",
    "    sns.set_theme(context='talk', \n",
    "                  style='ticks', \n",
    "                  palette='deep',\n",
    "                  rc={'figure.figsize':(h,w)}\n",
    "                  )\n",
    "\n",
    "    \n",
    "\n",
    "    \n",
    "    fig, ax1 = plt.subplots(nrows=1, ncols=1, sharex=True, figsize=(h,w))\n",
    "    \n",
    "\n",
    "    p = sns.lineplot(data=df, x=\"Time\", y=\"WD\",hue=\"precision\",ax=ax1,markers=True)\n",
    "\n",
    "    #Config\n",
    "    plt.subplots_adjust(wspace=0.1, hspace=0)\n",
    "\n",
    "    ax1.set_ylabel(\"Wasserstein distance (K)\")#, fontsize = 20)\n",
    "    ax1.set_xlabel(\"Time (years)\")#, fontsize = 20)\n",
    "   \n",
    "\n",
    "    ax1.set_yscale('log')\n",
    "    ax1.set_xscale('log')\n",
    "    \n",
    "    #Other config\n",
    "    ax1.legend().set_title(None)\n",
    "   "
   ]
  },
  {
   "cell_type": "code",
   "execution_count": 18,
   "id": "0b671fe6-bba9-463c-81ce-99ea5144a62d",
   "metadata": {},
   "outputs": [
    {
     "data": {
      "image/png": "[encoded data removed]",
      "text/plain": [
       "<Figure size 864x864 with 1 Axes>"
      ]
     },
     "metadata": {},
     "output_type": "display_data"
    }
   ],
   "source": [
    "plot_WD(dfmean)"
   ]
  },
  {
   "cell_type": "code",
   "execution_count": null,
   "id": "318b274c-2aac-4b00-a25b-47dd9b961b1d",
   "metadata": {},
   "outputs": [],
   "source": []
  }
 ],
 "metadata": {
  "kernelspec": {
   "display_name": "Python 3 (ipykernel)",
   "language": "python",
   "name": "python3"
  },
  "language_info": {
   "codemirror_mode": {
    "name": "ipython",
    "version": 3
   },
   "file_extension": ".py",
   "mimetype": "text/x-python",
   "name": "python",
   "nbconvert_exporter": "python",
   "pygments_lexer": "ipython3",
   "version": "3.7.12"
  }
 },
 "nbformat": 4,
 "nbformat_minor": 5
}
