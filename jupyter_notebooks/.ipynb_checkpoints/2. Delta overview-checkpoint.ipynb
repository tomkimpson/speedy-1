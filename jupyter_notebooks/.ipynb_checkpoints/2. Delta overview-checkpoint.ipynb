{
 "cells": [
  {
   "cell_type": "markdown",
   "id": "9db5e98f",
   "metadata": {},
   "source": [
    "# What causes this extra gap?\n",
    "\n",
    "Modifying `geop()` fixes the bulk of the problem, but a small gap reamins, as evidenced in the plot from the previous notebook.\n",
    "\n",
    " We will refer to this gap between the 10RN solution and the 'true' solution (i.e. the 50_RN) solution as $\\delta$.\n",
    " \n",
    "The question is then:\n",
    " \n",
    " * Why does reduced precision cause this _systematic_ shift?\n",
    " \n",
    " * Why does stochastic rounding not suffer from the same delta?\n",
    " \n",
    " ---\n",
    " \n",
    " We can look at this at a high level at first. The general structure is of `SPEEDY` is:\n",
    " \n",
    " \n",
    " ```fortran\n",
    "     ! 2. do loop over total no. of integration days\n",
    "        do jday = 1, ndays\n",
    "            ! 2.1 run atmospheric model for 1 day\n",
    "            call agcm_1day(jday)\n",
    "       \n",
    "            ! 2.2 exchange data with coupler\n",
    "            call agcm_to_coupler(jday)\n",
    "            call coupler_to_agcm(jday)\n",
    "\n",
    "\n",
    "        end do\n",
    "\n",
    " \n",
    " ```\n",
    " \n",
    " Whilst the bulk of the physics is in `agcm_1day`, we will also need to check for any errors due to data exchange with the coupler."
   ]
  },
  {
   "cell_type": "code",
   "execution_count": null,
   "id": "a9f6b1a4-5027-4606-a750-77c5601a2073",
   "metadata": {},
   "outputs": [],
   "source": []
  }
 ],
 "metadata": {
  "kernelspec": {
   "display_name": "Python 3 (ipykernel)",
   "language": "python",
   "name": "python3"
  },
  "language_info": {
   "codemirror_mode": {
    "name": "ipython",
    "version": 3
   },
   "file_extension": ".py",
   "mimetype": "text/x-python",
   "name": "python",
   "nbconvert_exporter": "python",
   "pygments_lexer": "ipython3",
   "version": "3.7.12"
  }
 },
 "nbformat": 4,
 "nbformat_minor": 5
}
