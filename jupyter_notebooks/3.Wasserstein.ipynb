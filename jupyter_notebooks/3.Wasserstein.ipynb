{
 "cells": [
  {
   "cell_type": "code",
   "execution_count": 20,
   "id": "2cecc88b",
   "metadata": {},
   "outputs": [
    {
     "name": "stdout",
     "output_type": "stream",
     "text": [
      "List of control dirs:\n",
      "/network/group/aopp/predict/TIP016_PAXTON_RPSPEEDY/speedyone/paper/10yearWD/backups/speedyone10yr_L2_52_RN_m0_WD\n",
      "/network/group/aopp/predict/TIP016_PAXTON_RPSPEEDY/speedyone/paper/10yearWD/backups/speedyone10yr_L2_52_RN_m1_WD\n",
      "/network/group/aopp/predict/TIP016_PAXTON_RPSPEEDY/speedyone/paper/10yearWD/backups/speedyone10yr_L2_52_RN_m2_WD\n",
      "/network/group/aopp/predict/TIP016_PAXTON_RPSPEEDY/speedyone/paper/10yearWD/backups/speedyone10yr_L2_52_RN_m3_WD\n",
      "/network/group/aopp/predict/TIP016_PAXTON_RPSPEEDY/speedyone/paper/10yearWD/backups/speedyone10yr_L2_52_RN_m4_WD\n",
      "List of competitor dirs:\n",
      "/network/group/aopp/predict/TIP016_PAXTON_RPSPEEDY/speedyone/paper/10yearWD/speedyone10yr_L2_52_RN_m5_WD\n",
      "/network/group/aopp/predict/TIP016_PAXTON_RPSPEEDY/speedyone/paper/10yearWD/speedyone10yr_L2_52_RN_m6_WD\n",
      "/network/group/aopp/predict/TIP016_PAXTON_RPSPEEDY/speedyone/paper/10yearWD/speedyone10yr_L2_52_RN_m7_WD\n",
      "/network/group/aopp/predict/TIP016_PAXTON_RPSPEEDY/speedyone/paper/10yearWD/speedyone10yr_L2_52_RN_m8_WD\n",
      "/network/group/aopp/predict/TIP016_PAXTON_RPSPEEDY/speedyone/paper/10yearWD/speedyone10yr_L2_52_RN_m9_WD\n",
      "STARTING!\n",
      "Loading control data from /network/group/aopp/predict/TIP016_PAXTON_RPSPEEDY/speedyone/paper/10yearWD/backups/speedyone10yr_L2_52_RN_m0_WD\n"
     ]
    },
    {
     "data": {
      "application/vnd.jupyter.widget-view+json": {
       "model_id": "4f66b16857c64a88ad6ab1dfc295a13f",
       "version_major": 2,
       "version_minor": 0
      },
      "text/plain": [
       "  0%|          | 0/11 [00:00<?, ?it/s]"
      ]
     },
     "metadata": {},
     "output_type": "display_data"
    },
    {
     "name": "stderr",
     "output_type": "stream",
     "text": [
      "/home/k/kimpson/bin/conda/envs/workhorse/lib/python3.7/site-packages/scipy/io/netcdf.py:312: RuntimeWarning: Cannot close a netcdf_file opened with mmap=True, when netcdf_variables or arrays referring to its data still exist. All data arrays obtained from such files refer directly to data on disk, and must be copied before the file can be cleanly closed. (See netcdf_file docstring for more information on mmap.)\n",
      "  ), category=RuntimeWarning)\n"
     ]
    },
    {
     "data": {
      "application/vnd.jupyter.widget-view+json": {
       "model_id": "c75015f62a65424dbd2ab901972bf114",
       "version_major": 2,
       "version_minor": 0
      },
      "text/plain": [
       "  0%|          | 0/5 [00:00<?, ?it/s]"
      ]
     },
     "metadata": {},
     "output_type": "display_data"
    },
    {
     "name": "stdout",
     "output_type": "stream",
     "text": [
      "Loading competitor data from /network/group/aopp/predict/TIP016_PAXTON_RPSPEEDY/speedyone/paper/10yearWD/speedyone10yr_L2_52_RN_m5_WD\n"
     ]
    },
    {
     "data": {
      "application/vnd.jupyter.widget-view+json": {
       "model_id": "40804f9a99424fb0981b591637ef2a0b",
       "version_major": 2,
       "version_minor": 0
      },
      "text/plain": [
       "  0%|          | 0/11 [00:00<?, ?it/s]"
      ]
     },
     "metadata": {},
     "output_type": "display_data"
    },
    {
     "name": "stdout",
     "output_type": "stream",
     "text": [
      "0 5 365 0.30883769059538263\n",
      "0 5 730 0.28517268067452756\n",
      "0 5 1095 0.2708314955950913\n",
      "0 5 1460 0.26005210328626993\n",
      "0 5 1825 0.2527390422459943\n",
      "0 5 2190 0.24694922276408768\n",
      "0 5 2555 0.24269097973496073\n",
      "0 5 2920 0.2392884193998875\n",
      "0 5 3285 0.23639589728273355\n",
      "0 5 3651 0.23409552511537\n",
      "Loading competitor data from /network/group/aopp/predict/TIP016_PAXTON_RPSPEEDY/speedyone/paper/10yearWD/speedyone10yr_L2_52_RN_m6_WD\n"
     ]
    },
    {
     "data": {
      "application/vnd.jupyter.widget-view+json": {
       "model_id": "45445b095cc14ce590ef83c0f010756b",
       "version_major": 2,
       "version_minor": 0
      },
      "text/plain": [
       "  0%|          | 0/11 [00:00<?, ?it/s]"
      ]
     },
     "metadata": {},
     "output_type": "display_data"
    },
    {
     "name": "stdout",
     "output_type": "stream",
     "text": [
      "0 6 365 0.29438894650570363\n",
      "0 6 730 0.2702669293767241\n",
      "0 6 1095 0.25584570434335824\n",
      "0 6 1460 0.24496596031356757\n",
      "0 6 1825 0.2376341414410032\n",
      "0 6 2190 0.2315811172932415\n",
      "0 6 2555 0.22714633997232736\n",
      "0 6 2920 0.2232247592493471\n",
      "0 6 3285 0.2204745005792053\n",
      "0 6 3651 0.21774651726610544\n",
      "Loading competitor data from /network/group/aopp/predict/TIP016_PAXTON_RPSPEEDY/speedyone/paper/10yearWD/speedyone10yr_L2_52_RN_m7_WD\n"
     ]
    },
    {
     "data": {
      "application/vnd.jupyter.widget-view+json": {
       "model_id": "a0d2abb17ed345f59994aaa4688ef8b4",
       "version_major": 2,
       "version_minor": 0
      },
      "text/plain": [
       "  0%|          | 0/11 [00:00<?, ?it/s]"
      ]
     },
     "metadata": {},
     "output_type": "display_data"
    },
    {
     "name": "stdout",
     "output_type": "stream",
     "text": [
      "0 7 365 0.28441004394948305\n",
      "0 7 730 0.2601406271976994\n",
      "0 7 1095 0.24532449583351085\n",
      "0 7 1460 0.2352718895605036\n",
      "0 7 1825 0.22821312043197123\n",
      "0 7 2190 0.22291891619039778\n",
      "0 7 2555 0.21870953800061388\n",
      "0 7 2920 0.21553117300610422\n",
      "0 7 3285 0.21257269772492846\n",
      "0 7 3651 0.21024240431467853\n",
      "Loading competitor data from /network/group/aopp/predict/TIP016_PAXTON_RPSPEEDY/speedyone/paper/10yearWD/speedyone10yr_L2_52_RN_m8_WD\n"
     ]
    },
    {
     "data": {
      "application/vnd.jupyter.widget-view+json": {
       "model_id": "5246adb1f2fe4bafacbc0df236e665d2",
       "version_major": 2,
       "version_minor": 0
      },
      "text/plain": [
       "  0%|          | 0/11 [00:00<?, ?it/s]"
      ]
     },
     "metadata": {},
     "output_type": "display_data"
    },
    {
     "name": "stdout",
     "output_type": "stream",
     "text": [
      "0 8 365 0.29070345223223437\n",
      "0 8 730 0.26746204921117717\n",
      "0 8 1095 0.25344001138969857\n",
      "0 8 1460 0.2438933238408804\n",
      "0 8 1825 0.23706360975287863\n",
      "0 8 2190 0.23158942367689436\n",
      "0 8 2555 0.2272213813754231\n",
      "0 8 2920 0.22357483342944676\n",
      "0 8 3285 0.22041229028604398\n",
      "0 8 3651 0.21772157781291085\n",
      "Loading competitor data from /network/group/aopp/predict/TIP016_PAXTON_RPSPEEDY/speedyone/paper/10yearWD/speedyone10yr_L2_52_RN_m9_WD\n"
     ]
    },
    {
     "data": {
      "application/vnd.jupyter.widget-view+json": {
       "model_id": "b249e2d17bac4adb9e7677a271987a60",
       "version_major": 2,
       "version_minor": 0
      },
      "text/plain": [
       "  0%|          | 0/11 [00:00<?, ?it/s]"
      ]
     },
     "metadata": {},
     "output_type": "display_data"
    },
    {
     "name": "stdout",
     "output_type": "stream",
     "text": [
      "0 9 365 0.2893155808842102\n",
      "0 9 730 0.2638219563800519\n",
      "0 9 1095 0.2493389666663666\n",
      "0 9 1460 0.23828690256338547\n",
      "0 9 1825 0.2308151973529274\n",
      "0 9 2190 0.22475098373598656\n",
      "0 9 2555 0.22072137424951638\n",
      "0 9 2920 0.21711079758276153\n",
      "0 9 3285 0.2144520971593533\n",
      "0 9 3651 0.21192356064139328\n",
      "Loading control data from /network/group/aopp/predict/TIP016_PAXTON_RPSPEEDY/speedyone/paper/10yearWD/backups/speedyone10yr_L2_52_RN_m1_WD\n"
     ]
    },
    {
     "data": {
      "application/vnd.jupyter.widget-view+json": {
       "model_id": "0b150ef1ea47427ea129c492049c6bb0",
       "version_major": 2,
       "version_minor": 0
      },
      "text/plain": [
       "  0%|          | 0/11 [00:00<?, ?it/s]"
      ]
     },
     "metadata": {},
     "output_type": "display_data"
    },
    {
     "data": {
      "application/vnd.jupyter.widget-view+json": {
       "model_id": "b7c2602306fd4685aa9e84bdc51551a1",
       "version_major": 2,
       "version_minor": 0
      },
      "text/plain": [
       "  0%|          | 0/5 [00:00<?, ?it/s]"
      ]
     },
     "metadata": {},
     "output_type": "display_data"
    },
    {
     "name": "stdout",
     "output_type": "stream",
     "text": [
      "Loading competitor data from /network/group/aopp/predict/TIP016_PAXTON_RPSPEEDY/speedyone/paper/10yearWD/speedyone10yr_L2_52_RN_m5_WD\n"
     ]
    },
    {
     "data": {
      "application/vnd.jupyter.widget-view+json": {
       "model_id": "3131d0daa40d46b392ddc11fb64103c2",
       "version_major": 2,
       "version_minor": 0
      },
      "text/plain": [
       "  0%|          | 0/11 [00:00<?, ?it/s]"
      ]
     },
     "metadata": {},
     "output_type": "display_data"
    },
    {
     "name": "stdout",
     "output_type": "stream",
     "text": [
      "1 5 365 0.2948732412551629\n",
      "1 5 730 0.27221424533659394\n",
      "1 5 1095 0.25739160112479736\n",
      "1 5 1460 0.24704669402327165\n",
      "1 5 1825 0.23968258933643563\n",
      "1 5 2190 0.23402607080525062\n",
      "1 5 2555 0.22996485376400383\n",
      "1 5 2920 0.22675966652447613\n",
      "1 5 3285 0.224075638147004\n",
      "1 5 3651 0.2216965693099121\n",
      "Loading competitor data from /network/group/aopp/predict/TIP016_PAXTON_RPSPEEDY/speedyone/paper/10yearWD/speedyone10yr_L2_52_RN_m6_WD\n"
     ]
    },
    {
     "data": {
      "application/vnd.jupyter.widget-view+json": {
       "model_id": "4707c6edc41c465790edd15de3289768",
       "version_major": 2,
       "version_minor": 0
      },
      "text/plain": [
       "  0%|          | 0/11 [00:00<?, ?it/s]"
      ]
     },
     "metadata": {},
     "output_type": "display_data"
    },
    {
     "name": "stdout",
     "output_type": "stream",
     "text": [
      "1 6 365 0.283223835049975\n",
      "1 6 730 0.2598213700597347\n",
      "1 6 1095 0.24554660179066592\n",
      "1 6 1460 0.2357813009129065\n",
      "1 6 1825 0.22892372176873974\n",
      "1 6 2190 0.22387278545215905\n",
      "1 6 2555 0.22002758495928967\n",
      "1 6 2920 0.21676040055907564\n",
      "1 6 3285 0.2139155586912601\n",
      "1 6 3651 0.21106454908529734\n",
      "Loading competitor data from /network/group/aopp/predict/TIP016_PAXTON_RPSPEEDY/speedyone/paper/10yearWD/speedyone10yr_L2_52_RN_m7_WD\n"
     ]
    },
    {
     "data": {
      "application/vnd.jupyter.widget-view+json": {
       "model_id": "039cb3922c5f498a9e05ebfe5113dab4",
       "version_major": 2,
       "version_minor": 0
      },
      "text/plain": [
       "  0%|          | 0/11 [00:00<?, ?it/s]"
      ]
     },
     "metadata": {},
     "output_type": "display_data"
    },
    {
     "name": "stdout",
     "output_type": "stream",
     "text": [
      "1 7 365 0.29633681087811015\n",
      "1 7 730 0.27225103988086397\n",
      "1 7 1095 0.25691676930967744\n",
      "1 7 1460 0.24585112574217038\n",
      "1 7 1825 0.23810038618436913\n",
      "1 7 2190 0.23247677151202584\n",
      "1 7 2555 0.22826984450124715\n",
      "1 7 2920 0.2249651590242241\n",
      "1 7 3285 0.22234013824006615\n",
      "1 7 3651 0.21978983552905232\n",
      "Loading competitor data from /network/group/aopp/predict/TIP016_PAXTON_RPSPEEDY/speedyone/paper/10yearWD/speedyone10yr_L2_52_RN_m8_WD\n"
     ]
    },
    {
     "data": {
      "application/vnd.jupyter.widget-view+json": {
       "model_id": "5b3642d5bf9c449d9579e695f27f44bc",
       "version_major": 2,
       "version_minor": 0
      },
      "text/plain": [
       "  0%|          | 0/11 [00:00<?, ?it/s]"
      ]
     },
     "metadata": {},
     "output_type": "display_data"
    },
    {
     "name": "stdout",
     "output_type": "stream",
     "text": [
      "1 8 365 0.2973248339686047\n",
      "1 8 730 0.27349094697064036\n",
      "1 8 1095 0.2590340397917872\n",
      "1 8 1460 0.24890233979657475\n",
      "1 8 1825 0.2414361074645244\n",
      "1 8 2190 0.23590068241785833\n",
      "1 8 2555 0.23164133622885597\n",
      "1 8 2920 0.22823114919215381\n",
      "1 8 3285 0.2253566304549754\n",
      "1 8 3651 0.22281787961986557\n",
      "Loading competitor data from /network/group/aopp/predict/TIP016_PAXTON_RPSPEEDY/speedyone/paper/10yearWD/speedyone10yr_L2_52_RN_m9_WD\n"
     ]
    },
    {
     "data": {
      "application/vnd.jupyter.widget-view+json": {
       "model_id": "c1cff8a5b7f84bfdad592f987f5fcd04",
       "version_major": 2,
       "version_minor": 0
      },
      "text/plain": [
       "  0%|          | 0/11 [00:00<?, ?it/s]"
      ]
     },
     "metadata": {},
     "output_type": "display_data"
    },
    {
     "name": "stdout",
     "output_type": "stream",
     "text": [
      "1 9 365 0.29102288783225083\n",
      "1 9 730 0.2668245127959978\n",
      "1 9 1095 0.2513612817240728\n",
      "1 9 1460 0.24084281530014728\n",
      "1 9 1825 0.23291621397592696\n",
      "1 9 2190 0.2271734648498717\n",
      "1 9 2555 0.2227045832557912\n",
      "1 9 2920 0.21929999669046152\n",
      "1 9 3285 0.21631572087588719\n",
      "1 9 3651 0.21383781117517695\n",
      "Loading control data from /network/group/aopp/predict/TIP016_PAXTON_RPSPEEDY/speedyone/paper/10yearWD/backups/speedyone10yr_L2_52_RN_m2_WD\n"
     ]
    },
    {
     "data": {
      "application/vnd.jupyter.widget-view+json": {
       "model_id": "5b8962115b7d432ea1fa38787ba2fbb6",
       "version_major": 2,
       "version_minor": 0
      },
      "text/plain": [
       "  0%|          | 0/11 [00:00<?, ?it/s]"
      ]
     },
     "metadata": {},
     "output_type": "display_data"
    },
    {
     "data": {
      "application/vnd.jupyter.widget-view+json": {
       "model_id": "63248b122d9548bf9a195aba8518c56f",
       "version_major": 2,
       "version_minor": 0
      },
      "text/plain": [
       "  0%|          | 0/5 [00:00<?, ?it/s]"
      ]
     },
     "metadata": {},
     "output_type": "display_data"
    },
    {
     "name": "stdout",
     "output_type": "stream",
     "text": [
      "Loading competitor data from /network/group/aopp/predict/TIP016_PAXTON_RPSPEEDY/speedyone/paper/10yearWD/speedyone10yr_L2_52_RN_m5_WD\n"
     ]
    },
    {
     "data": {
      "application/vnd.jupyter.widget-view+json": {
       "model_id": "2b9e53b86efd49e4aff993e3f57dd0b3",
       "version_major": 2,
       "version_minor": 0
      },
      "text/plain": [
       "  0%|          | 0/11 [00:00<?, ?it/s]"
      ]
     },
     "metadata": {},
     "output_type": "display_data"
    },
    {
     "name": "stdout",
     "output_type": "stream",
     "text": [
      "2 5 365 0.28843405172707676\n",
      "2 5 730 0.26524725592830944\n",
      "2 5 1095 0.25064490944052475\n",
      "2 5 1460 0.24101066673869168\n",
      "2 5 1825 0.233630456097795\n",
      "2 5 2190 0.22822829232802785\n",
      "2 5 2555 0.22360524954780128\n",
      "2 5 2920 0.2200647933098478\n",
      "2 5 3285 0.21676616275468974\n",
      "2 5 3651 0.21406491747546597\n",
      "Loading competitor data from /network/group/aopp/predict/TIP016_PAXTON_RPSPEEDY/speedyone/paper/10yearWD/speedyone10yr_L2_52_RN_m6_WD\n"
     ]
    },
    {
     "data": {
      "application/vnd.jupyter.widget-view+json": {
       "model_id": "bdea90f3d52e4066b6b3dcad5852a341",
       "version_major": 2,
       "version_minor": 0
      },
      "text/plain": [
       "  0%|          | 0/11 [00:00<?, ?it/s]"
      ]
     },
     "metadata": {},
     "output_type": "display_data"
    },
    {
     "name": "stdout",
     "output_type": "stream",
     "text": [
      "2 6 365 0.2877963413456142\n",
      "2 6 730 0.26573940135458163\n",
      "2 6 1095 0.25139304333209156\n",
      "2 6 1460 0.2418850079694795\n",
      "2 6 1825 0.23465231650250384\n",
      "2 6 2190 0.2291438356484229\n",
      "2 6 2555 0.2243724302522535\n",
      "2 6 2920 0.2203619264348321\n",
      "2 6 3285 0.21700733254690052\n",
      "2 6 3651 0.2140566730006822\n",
      "Loading competitor data from /network/group/aopp/predict/TIP016_PAXTON_RPSPEEDY/speedyone/paper/10yearWD/speedyone10yr_L2_52_RN_m7_WD\n"
     ]
    },
    {
     "data": {
      "application/vnd.jupyter.widget-view+json": {
       "model_id": "400e347f114a453c9c223713f8df1ec8",
       "version_major": 2,
       "version_minor": 0
      },
      "text/plain": [
       "  0%|          | 0/11 [00:00<?, ?it/s]"
      ]
     },
     "metadata": {},
     "output_type": "display_data"
    },
    {
     "name": "stdout",
     "output_type": "stream",
     "text": [
      "2 7 365 0.2910697790867146\n",
      "2 7 730 0.2672367193874465\n",
      "2 7 1095 0.2522353113462116\n",
      "2 7 1460 0.24176673505993287\n",
      "2 7 1825 0.23379373113180504\n",
      "2 7 2190 0.22820854357178133\n",
      "2 7 2555 0.22328701365844733\n",
      "2 7 2920 0.21980814844158367\n",
      "2 7 3285 0.21687794966756116\n",
      "2 7 3651 0.21444806019620632\n",
      "Loading competitor data from /network/group/aopp/predict/TIP016_PAXTON_RPSPEEDY/speedyone/paper/10yearWD/speedyone10yr_L2_52_RN_m8_WD\n"
     ]
    },
    {
     "data": {
      "application/vnd.jupyter.widget-view+json": {
       "model_id": "6fc30558921d4c08a5b648224d0c7ca4",
       "version_major": 2,
       "version_minor": 0
      },
      "text/plain": [
       "  0%|          | 0/11 [00:00<?, ?it/s]"
      ]
     },
     "metadata": {},
     "output_type": "display_data"
    },
    {
     "name": "stdout",
     "output_type": "stream",
     "text": [
      "2 8 365 0.3028685228616911\n",
      "2 8 730 0.27877976941219185\n",
      "2 8 1095 0.26430043923194785\n",
      "2 8 1460 0.25433331767823414\n",
      "2 8 1825 0.2467741591833552\n",
      "2 8 2190 0.24095839670919605\n",
      "2 8 2555 0.23595634552503034\n",
      "2 8 2920 0.23211900202207916\n",
      "2 8 3285 0.22887513566742562\n",
      "2 8 3651 0.2262824986629927\n",
      "Loading competitor data from /network/group/aopp/predict/TIP016_PAXTON_RPSPEEDY/speedyone/paper/10yearWD/speedyone10yr_L2_52_RN_m9_WD\n"
     ]
    },
    {
     "data": {
      "application/vnd.jupyter.widget-view+json": {
       "model_id": "150377de6a7d4efca08069674eabe07c",
       "version_major": 2,
       "version_minor": 0
      },
      "text/plain": [
       "  0%|          | 0/11 [00:00<?, ?it/s]"
      ]
     },
     "metadata": {},
     "output_type": "display_data"
    },
    {
     "name": "stdout",
     "output_type": "stream",
     "text": [
      "2 9 365 0.2872084153272596\n",
      "2 9 730 0.2633985244695151\n",
      "2 9 1095 0.24840550145763363\n",
      "2 9 1460 0.23788747074226585\n",
      "2 9 1825 0.2302805290129465\n",
      "2 9 2190 0.22440927531271104\n",
      "2 9 2555 0.219743510111856\n",
      "2 9 2920 0.2162402760772414\n",
      "2 9 3285 0.21307270628738395\n",
      "2 9 3651 0.2105614825153757\n",
      "Loading control data from /network/group/aopp/predict/TIP016_PAXTON_RPSPEEDY/speedyone/paper/10yearWD/backups/speedyone10yr_L2_52_RN_m3_WD\n"
     ]
    },
    {
     "data": {
      "application/vnd.jupyter.widget-view+json": {
       "model_id": "f854636a2321499a80898e3be246f6a6",
       "version_major": 2,
       "version_minor": 0
      },
      "text/plain": [
       "  0%|          | 0/11 [00:00<?, ?it/s]"
      ]
     },
     "metadata": {},
     "output_type": "display_data"
    },
    {
     "data": {
      "application/vnd.jupyter.widget-view+json": {
       "model_id": "18d06cdd0e614f5e9b86d2c987aa2036",
       "version_major": 2,
       "version_minor": 0
      },
      "text/plain": [
       "  0%|          | 0/5 [00:00<?, ?it/s]"
      ]
     },
     "metadata": {},
     "output_type": "display_data"
    },
    {
     "name": "stdout",
     "output_type": "stream",
     "text": [
      "Loading competitor data from /network/group/aopp/predict/TIP016_PAXTON_RPSPEEDY/speedyone/paper/10yearWD/speedyone10yr_L2_52_RN_m5_WD\n"
     ]
    },
    {
     "data": {
      "application/vnd.jupyter.widget-view+json": {
       "model_id": "92c383d7413849d18b59a8e75c819227",
       "version_major": 2,
       "version_minor": 0
      },
      "text/plain": [
       "  0%|          | 0/11 [00:00<?, ?it/s]"
      ]
     },
     "metadata": {},
     "output_type": "display_data"
    },
    {
     "name": "stdout",
     "output_type": "stream",
     "text": [
      "3 5 365 0.2956006032675277\n",
      "3 5 730 0.2733477815841192\n",
      "3 5 1095 0.2584393789868563\n",
      "3 5 1460 0.24840699885392498\n",
      "3 5 1825 0.24107676008486947\n",
      "3 5 2190 0.23551662760142028\n",
      "3 5 2555 0.23116152721179192\n",
      "3 5 2920 0.22764195260588138\n",
      "3 5 3285 0.22458472193208667\n",
      "3 5 3651 0.22204349152450767\n",
      "Loading competitor data from /network/group/aopp/predict/TIP016_PAXTON_RPSPEEDY/speedyone/paper/10yearWD/speedyone10yr_L2_52_RN_m6_WD\n"
     ]
    },
    {
     "data": {
      "application/vnd.jupyter.widget-view+json": {
       "model_id": "30dd4e5dab0a4817b39d24efaaca198b",
       "version_major": 2,
       "version_minor": 0
      },
      "text/plain": [
       "  0%|          | 0/11 [00:00<?, ?it/s]"
      ]
     },
     "metadata": {},
     "output_type": "display_data"
    },
    {
     "name": "stdout",
     "output_type": "stream",
     "text": [
      "3 6 365 0.297324549788649\n",
      "3 6 730 0.2733545822902735\n",
      "3 6 1095 0.259028664421542\n",
      "3 6 1460 0.24827210251087609\n",
      "3 6 1825 0.241094892286655\n",
      "3 6 2190 0.23514481382347535\n",
      "3 6 2555 0.23062440071216883\n",
      "3 6 2920 0.2266169602015429\n",
      "3 6 3285 0.22363826290099315\n",
      "3 6 3651 0.2208001219186808\n",
      "Loading competitor data from /network/group/aopp/predict/TIP016_PAXTON_RPSPEEDY/speedyone/paper/10yearWD/speedyone10yr_L2_52_RN_m7_WD\n"
     ]
    },
    {
     "data": {
      "application/vnd.jupyter.widget-view+json": {
       "model_id": "8a586609e910457497c03c041caec695",
       "version_major": 2,
       "version_minor": 0
      },
      "text/plain": [
       "  0%|          | 0/11 [00:00<?, ?it/s]"
      ]
     },
     "metadata": {},
     "output_type": "display_data"
    },
    {
     "name": "stdout",
     "output_type": "stream",
     "text": [
      "3 7 365 0.29474687427070356\n",
      "3 7 730 0.27117009518613927\n",
      "3 7 1095 0.25643952522205243\n",
      "3 7 1460 0.24590106125279101\n",
      "3 7 1825 0.23822540760219368\n",
      "3 7 2190 0.23259570977980357\n",
      "3 7 2555 0.22820920819060353\n",
      "3 7 2920 0.22497380808005\n",
      "3 7 3285 0.22225480094577424\n",
      "3 7 3651 0.21985151362786542\n",
      "Loading competitor data from /network/group/aopp/predict/TIP016_PAXTON_RPSPEEDY/speedyone/paper/10yearWD/speedyone10yr_L2_52_RN_m8_WD\n"
     ]
    },
    {
     "data": {
      "application/vnd.jupyter.widget-view+json": {
       "model_id": "644b56ecdd004e2ebb8ae1ee1fb5b770",
       "version_major": 2,
       "version_minor": 0
      },
      "text/plain": [
       "  0%|          | 0/11 [00:00<?, ?it/s]"
      ]
     },
     "metadata": {},
     "output_type": "display_data"
    },
    {
     "name": "stdout",
     "output_type": "stream",
     "text": [
      "3 8 365 0.30315996651358756\n",
      "3 8 730 0.27926285921252814\n",
      "3 8 1095 0.26530756713902764\n",
      "3 8 1460 0.2549366796402892\n",
      "3 8 1825 0.2479783989911431\n",
      "3 8 2190 0.24252626967967078\n",
      "3 8 2555 0.23840873189398432\n",
      "3 8 2920 0.23475512786783298\n",
      "3 8 3285 0.2320503091460347\n",
      "3 8 3651 0.22954892102046565\n",
      "Loading competitor data from /network/group/aopp/predict/TIP016_PAXTON_RPSPEEDY/speedyone/paper/10yearWD/speedyone10yr_L2_52_RN_m9_WD\n"
     ]
    },
    {
     "data": {
      "application/vnd.jupyter.widget-view+json": {
       "model_id": "14b2ce2aba3345e0ad61249b52c4375e",
       "version_major": 2,
       "version_minor": 0
      },
      "text/plain": [
       "  0%|          | 0/11 [00:00<?, ?it/s]"
      ]
     },
     "metadata": {},
     "output_type": "display_data"
    },
    {
     "name": "stdout",
     "output_type": "stream",
     "text": [
      "3 9 365 0.2919498035784376\n",
      "3 9 730 0.26845236123310406\n",
      "3 9 1095 0.2538831757638566\n",
      "3 9 1460 0.24356594459814238\n",
      "3 9 1825 0.23635006215721063\n",
      "3 9 2190 0.2307249471288301\n",
      "3 9 2555 0.22666050343978295\n",
      "3 9 2920 0.22338479225607402\n",
      "3 9 3285 0.22070026017728323\n",
      "3 9 3651 0.2181920647624244\n",
      "Loading control data from /network/group/aopp/predict/TIP016_PAXTON_RPSPEEDY/speedyone/paper/10yearWD/backups/speedyone10yr_L2_52_RN_m4_WD\n"
     ]
    },
    {
     "data": {
      "application/vnd.jupyter.widget-view+json": {
       "model_id": "710885a8b09a45908700d441fea0219c",
       "version_major": 2,
       "version_minor": 0
      },
      "text/plain": [
       "  0%|          | 0/11 [00:00<?, ?it/s]"
      ]
     },
     "metadata": {},
     "output_type": "display_data"
    },
    {
     "data": {
      "application/vnd.jupyter.widget-view+json": {
       "model_id": "896fa215d1f54b3cbd12c84fe3ae2fee",
       "version_major": 2,
       "version_minor": 0
      },
      "text/plain": [
       "  0%|          | 0/5 [00:00<?, ?it/s]"
      ]
     },
     "metadata": {},
     "output_type": "display_data"
    },
    {
     "name": "stdout",
     "output_type": "stream",
     "text": [
      "Loading competitor data from /network/group/aopp/predict/TIP016_PAXTON_RPSPEEDY/speedyone/paper/10yearWD/speedyone10yr_L2_52_RN_m5_WD\n"
     ]
    },
    {
     "data": {
      "application/vnd.jupyter.widget-view+json": {
       "model_id": "e3d7f636ce0e4ad6b95ebcc4f41d52d1",
       "version_major": 2,
       "version_minor": 0
      },
      "text/plain": [
       "  0%|          | 0/11 [00:00<?, ?it/s]"
      ]
     },
     "metadata": {},
     "output_type": "display_data"
    },
    {
     "name": "stdout",
     "output_type": "stream",
     "text": [
      "4 5 365 0.2835934177154671\n",
      "4 5 730 0.26086495175586877\n",
      "4 5 1095 0.24632092739757283\n",
      "4 5 1460 0.23643222243045559\n",
      "4 5 1825 0.22955230441419383\n",
      "4 5 2190 0.22445829162729153\n",
      "4 5 2555 0.22045907979802098\n",
      "4 5 2920 0.2175314735088578\n",
      "4 5 3285 0.2147758749064952\n",
      "4 5 3651 0.21246588839470754\n",
      "Loading competitor data from /network/group/aopp/predict/TIP016_PAXTON_RPSPEEDY/speedyone/paper/10yearWD/speedyone10yr_L2_52_RN_m6_WD\n"
     ]
    },
    {
     "data": {
      "application/vnd.jupyter.widget-view+json": {
       "model_id": "a391e947590f46fd894b764a0c7373b9",
       "version_major": 2,
       "version_minor": 0
      },
      "text/plain": [
       "  0%|          | 0/11 [00:00<?, ?it/s]"
      ]
     },
     "metadata": {},
     "output_type": "display_data"
    },
    {
     "name": "stdout",
     "output_type": "stream",
     "text": [
      "4 6 365 0.30160157736236387\n",
      "4 6 730 0.2787654881529997\n",
      "4 6 1095 0.2645330511461248\n",
      "4 6 1460 0.25505530938151694\n",
      "4 6 1825 0.24809713768441602\n",
      "4 6 2190 0.24258099223941995\n",
      "4 6 2555 0.23803716029594776\n",
      "4 6 2920 0.2344521598886215\n",
      "4 6 3285 0.23150970591888045\n",
      "4 6 3651 0.22887673143319187\n",
      "Loading competitor data from /network/group/aopp/predict/TIP016_PAXTON_RPSPEEDY/speedyone/paper/10yearWD/speedyone10yr_L2_52_RN_m7_WD\n"
     ]
    },
    {
     "data": {
      "application/vnd.jupyter.widget-view+json": {
       "model_id": "9f0194f7c05f4acb961204a0212d18ce",
       "version_major": 2,
       "version_minor": 0
      },
      "text/plain": [
       "  0%|          | 0/11 [00:00<?, ?it/s]"
      ]
     },
     "metadata": {},
     "output_type": "display_data"
    },
    {
     "name": "stdout",
     "output_type": "stream",
     "text": [
      "4 7 365 0.28858636179191977\n",
      "4 7 730 0.2652678987608452\n",
      "4 7 1095 0.2509125747671658\n",
      "4 7 1460 0.2410749363225863\n",
      "4 7 1825 0.23423565159485094\n",
      "4 7 2190 0.22907425991248256\n",
      "4 7 2555 0.2251462997234085\n",
      "4 7 2920 0.22220376402503483\n",
      "4 7 3285 0.21975851650463799\n",
      "4 7 3651 0.2174319726209587\n",
      "Loading competitor data from /network/group/aopp/predict/TIP016_PAXTON_RPSPEEDY/speedyone/paper/10yearWD/speedyone10yr_L2_52_RN_m8_WD\n"
     ]
    },
    {
     "data": {
      "application/vnd.jupyter.widget-view+json": {
       "model_id": "5e75b0abccd846449506f6c2ab7d391e",
       "version_major": 2,
       "version_minor": 0
      },
      "text/plain": [
       "  0%|          | 0/11 [00:00<?, ?it/s]"
      ]
     },
     "metadata": {},
     "output_type": "display_data"
    },
    {
     "name": "stdout",
     "output_type": "stream",
     "text": [
      "4 8 365 0.29477702668482364\n",
      "4 8 730 0.2721106887269231\n",
      "4 8 1095 0.25778147181464345\n",
      "4 8 1460 0.24845001694923236\n",
      "4 8 1825 0.2419503827827116\n",
      "4 8 2190 0.2370247910350408\n",
      "4 8 2555 0.23296331864173433\n",
      "4 8 2920 0.22970421169324565\n",
      "4 8 3285 0.22652649037278433\n",
      "4 8 3651 0.22380276943912547\n",
      "Loading competitor data from /network/group/aopp/predict/TIP016_PAXTON_RPSPEEDY/speedyone/paper/10yearWD/speedyone10yr_L2_52_RN_m9_WD\n"
     ]
    },
    {
     "data": {
      "application/vnd.jupyter.widget-view+json": {
       "model_id": "f80608cb891f4bd7b4f81f8c9a8c73ff",
       "version_major": 2,
       "version_minor": 0
      },
      "text/plain": [
       "  0%|          | 0/11 [00:00<?, ?it/s]"
      ]
     },
     "metadata": {},
     "output_type": "display_data"
    },
    {
     "name": "stdout",
     "output_type": "stream",
     "text": [
      "4 9 365 0.2865001494145903\n",
      "4 9 730 0.2621499748718572\n",
      "4 9 1095 0.24612378134992388\n",
      "4 9 1460 0.2352933582717093\n",
      "4 9 1825 0.22746888829871892\n",
      "4 9 2190 0.22189957788784243\n",
      "4 9 2555 0.21723219099694535\n",
      "4 9 2920 0.21390268194345732\n",
      "4 9 3285 0.2109323052180026\n",
      "4 9 3651 0.20856621138243345\n"
     ]
    }
   ],
   "source": [
    "from scipy.stats import wasserstein_distance as wd\n",
    "\n",
    "\n",
    "\n",
    "#Import everything\n",
    "import xarray as xr\n",
    "import numpy as np\n",
    "import matplotlib.pyplot as plt\n",
    "import time\n",
    "import glob\n",
    "import pandas as pd\n",
    "import seaborn as sns\n",
    "import sys\n",
    "from collections import defaultdict\n",
    "from tqdm.notebook import tqdm\n",
    "import matplotlib as mpl\n",
    "\n",
    "\n",
    "\n",
    "\n",
    "\n",
    "def extract_file_data(df,columns):\n",
    "    \n",
    "    surface = df.sel(pressure=925.0)\n",
    "        \n",
    "    data = surface.to_dataframe()[columns]\n",
    "    \n",
    "    return data\n",
    "\n",
    "\n",
    " \n",
    "def process_nc_file(fname,weights,true_latitude,columns):    \n",
    "    \n",
    "        #Get data \n",
    "        df = xr.open_dataset(fname)\n",
    "        \n",
    "        \n",
    "        #Reset the latitude\n",
    "        df = df.assign_coords(latitude=(true_latitude))\n",
    "        \n",
    "\n",
    "       \n",
    "        #Get the data you want     \n",
    "        grid_data = extract_file_data(df,columns)\n",
    "        \n",
    "\n",
    "        \n",
    "        return grid_data\n",
    "\n",
    "def process_directory(directory,weights,true_lat,columns):\n",
    "\n",
    "    \n",
    "    #Empty arrays to hold data\n",
    "    dfs = []\n",
    "    \n",
    "    nc_files = sorted(glob.glob(directory+'/model_output*.nc')) #Dont process last file which is only super short\n",
    "                \n",
    "    for n in tqdm(nc_files): #for every model.nc file\n",
    "\n",
    "        df_snapshot = process_nc_file(n,weights,true_lat,columns)\n",
    "        dfs.append(df_snapshot)\n",
    "        \n",
    "    df = pd.concat(dfs,ignore_index=False)\n",
    "    \n",
    "    return df \n",
    "\n",
    "\n",
    "        \n",
    "    \n",
    "def get_global_weights():\n",
    "    \n",
    "     #Get the latitude weights from a special location\n",
    "    r1 = '/network/group/aopp/predict/TIP016_PAXTON_RPSPEEDY/speedyone/paper/Fig1_10year_Williams/'\n",
    "    f = r1 + 'speedyoneWILLIAMS_L2_52_RN_10y/model_output00001.nc'\n",
    "    df = xr.open_dataset(f)\n",
    "    \n",
    "    temp_file = df.temperature\n",
    "    weights = np.cos(np.deg2rad(temp_file.latitude))\n",
    "         \n",
    "    weights.name = \"weights\"\n",
    "    \n",
    "    \n",
    "    return weights, temp_file.latitude   \n",
    "\n",
    "\n",
    "def compare_ensemble_against_control(control_dirs,competitor_dirs,columns):\n",
    "    print ('STARTING!')\n",
    "    \n",
    "    \n",
    "    #Get weights and correct latitudes now\n",
    "    weights,latitude = get_global_weights()\n",
    "    \n",
    "    #Create an array that will hold all the data you are about\n",
    "    lenT = 10\n",
    "    out_array = np.zeros((lenT*len(control_dirs)*len(competitor_dirs),4))\n",
    "    global_counter = 0\n",
    "    \n",
    "    for i in control_dirs:\n",
    "        print ('Loading control data from', i)\n",
    "        #Get the dataframe\n",
    "        df_i = process_directory(i,weights,latitude,columns)\n",
    "        #Get the dimensions: x,y,time\n",
    "        long_idx = df_i.index.unique(level='longitude') #length 96\n",
    "        lat_idx = df_i.index.unique(level='latitude') #length 48\n",
    "        t_idx = df_i.index.unique(level='forecast_period') #length 3651\n",
    "\n",
    "        \n",
    "        ensemble_number_control = i.split('_m')[-1][0]\n",
    "\n",
    "        #Convert to a numpy array\n",
    "        np_control = np.array(df_i.values.reshape(len(long_idx),len(lat_idx),len(t_idx)))\n",
    "        for j in tqdm(competitor_dirs):\n",
    "            print ('Loading competitor data from', j)\n",
    "            ensemble_number_competitor=j.split('_m')[-1][0]\n",
    "                       \n",
    "            #Get the competitor dataframe \n",
    "            df_j = process_directory(j,weights,latitude,columns)\n",
    "            #...and also make this a numpy array\n",
    "            np_competitor = np.array(df_j.values.reshape(len(long_idx),len(lat_idx),len(t_idx)))\n",
    "\n",
    "            \n",
    "            #Get the WD between i and j, averaged across every grid point, up to a time t\n",
    "          \n",
    "            for t in range(1,lenT+1):\n",
    "                tfactor = int(t * len(t_idx)/lenT)\n",
    "                #print(tfactor,t,len(t_idx),lenT)\n",
    "                wasserstein_t_weighted = []\n",
    "                wasserstein_t_unweighted = []\n",
    "                for k in range(len(long_idx)):\n",
    "                    for m in range(len(lat_idx)):\n",
    "                        wasserstein= wd(np_competitor[k,m,0:tfactor], np_control[k,m,0:tfactor])\n",
    "                        wasserstein_weighted = weights[m].values*wasserstein #Weight the value by the latitude weight\n",
    "\n",
    "\n",
    "                        wasserstein_t_weighted.extend([wasserstein_weighted])\n",
    "                        wasserstein_t_unweighted.extend([wasserstein])\n",
    "                \n",
    "                #Output to the global np array\n",
    "                print(ensemble_number_control,ensemble_number_competitor,tfactor, np.mean(wasserstein_t_weighted))\n",
    "                out_array[global_counter,:] = ensemble_number_control,ensemble_number_competitor,tfactor, np.mean(wasserstein_t_weighted)\n",
    "                global_counter = global_counter +1\n",
    "                \n",
    "                \n",
    "    return out_array\n",
    "                \n",
    "                        \n",
    "\n",
    "columns = ['temperature']\n",
    "root = '/network/group/aopp/predict/TIP016_PAXTON_RPSPEEDY/speedyone/paper/10yearWD/'\n",
    "\n",
    "\n",
    "control_dirs = []\n",
    "\n",
    "for m in range(0,4+1):\n",
    "    dir_name = root + f'backups/speedyone10yr_L2_52_RN_m{m}_WD'\n",
    "    control_dirs.append(dir_name)\n",
    " \n",
    "\n",
    "\n",
    "competitor_dirs = []\n",
    "for m in range(5,9+1):\n",
    "    dir_name = root + f'speedyone10yr_L2_52_RN_m{m}_WD'\n",
    "    competitor_dirs.append(dir_name)\n",
    " \n",
    "print ('List of control dirs:')\n",
    "for i in control_dirs:\n",
    "    print (i)\n",
    "    \n",
    "    \n",
    "print ('List of competitor dirs:')\n",
    "for i in competitor_dirs:\n",
    "    print (i)\n",
    "    \n",
    "    \n",
    "    \n",
    "    \n",
    "output = compare_ensemble_against_control(control_dirs,competitor_dirs,columns)\n",
    "np.save(root+'52RN_WD.npy',output)\n",
    "\n",
    "\n"
   ]
  },
  {
   "cell_type": "markdown",
   "id": "61c59d7b-d67a-463d-9939-e9d2a62550ca",
   "metadata": {},
   "source": [
    "# Process all ensemble members"
   ]
  },
  {
   "cell_type": "code",
   "execution_count": 21,
   "id": "fe2da157-b4e1-47de-8d66-64ed3f4df594",
   "metadata": {},
   "outputs": [],
   "source": [
    "data = np.load(root+'52RN_WD.npy')\n",
    "   # p = f.split('/')[-1].split('.')[0]\n",
    "df = pd.DataFrame({'Control': data[:, 0], 'Competitor': data[:, 1], 'Time':data[:, 2],'WD': data[:, 3]})\n",
    "   # dfs.append(df)\n"
   ]
  },
  {
   "cell_type": "code",
   "execution_count": 22,
   "id": "6e8f88df-b2e5-48a1-a652-b9c12605857e",
   "metadata": {},
   "outputs": [
    {
     "data": {
      "text/html": [
       "<div>\n",
       "<style scoped>\n",
       "    .dataframe tbody tr th:only-of-type {\n",
       "        vertical-align: middle;\n",
       "    }\n",
       "\n",
       "    .dataframe tbody tr th {\n",
       "        vertical-align: top;\n",
       "    }\n",
       "\n",
       "    .dataframe thead th {\n",
       "        text-align: right;\n",
       "    }\n",
       "</style>\n",
       "<table border=\"1\" class=\"dataframe\">\n",
       "  <thead>\n",
       "    <tr style=\"text-align: right;\">\n",
       "      <th></th>\n",
       "      <th>Control</th>\n",
       "      <th>Competitor</th>\n",
       "      <th>Time</th>\n",
       "      <th>WD</th>\n",
       "    </tr>\n",
       "  </thead>\n",
       "  <tbody>\n",
       "    <tr>\n",
       "      <th>0</th>\n",
       "      <td>0.0</td>\n",
       "      <td>5.0</td>\n",
       "      <td>365.0</td>\n",
       "      <td>0.308838</td>\n",
       "    </tr>\n",
       "    <tr>\n",
       "      <th>1</th>\n",
       "      <td>0.0</td>\n",
       "      <td>5.0</td>\n",
       "      <td>730.0</td>\n",
       "      <td>0.285173</td>\n",
       "    </tr>\n",
       "    <tr>\n",
       "      <th>2</th>\n",
       "      <td>0.0</td>\n",
       "      <td>5.0</td>\n",
       "      <td>1095.0</td>\n",
       "      <td>0.270831</td>\n",
       "    </tr>\n",
       "    <tr>\n",
       "      <th>3</th>\n",
       "      <td>0.0</td>\n",
       "      <td>5.0</td>\n",
       "      <td>1460.0</td>\n",
       "      <td>0.260052</td>\n",
       "    </tr>\n",
       "    <tr>\n",
       "      <th>4</th>\n",
       "      <td>0.0</td>\n",
       "      <td>5.0</td>\n",
       "      <td>1825.0</td>\n",
       "      <td>0.252739</td>\n",
       "    </tr>\n",
       "    <tr>\n",
       "      <th>...</th>\n",
       "      <td>...</td>\n",
       "      <td>...</td>\n",
       "      <td>...</td>\n",
       "      <td>...</td>\n",
       "    </tr>\n",
       "    <tr>\n",
       "      <th>245</th>\n",
       "      <td>4.0</td>\n",
       "      <td>9.0</td>\n",
       "      <td>2190.0</td>\n",
       "      <td>0.221900</td>\n",
       "    </tr>\n",
       "    <tr>\n",
       "      <th>246</th>\n",
       "      <td>4.0</td>\n",
       "      <td>9.0</td>\n",
       "      <td>2555.0</td>\n",
       "      <td>0.217232</td>\n",
       "    </tr>\n",
       "    <tr>\n",
       "      <th>247</th>\n",
       "      <td>4.0</td>\n",
       "      <td>9.0</td>\n",
       "      <td>2920.0</td>\n",
       "      <td>0.213903</td>\n",
       "    </tr>\n",
       "    <tr>\n",
       "      <th>248</th>\n",
       "      <td>4.0</td>\n",
       "      <td>9.0</td>\n",
       "      <td>3285.0</td>\n",
       "      <td>0.210932</td>\n",
       "    </tr>\n",
       "    <tr>\n",
       "      <th>249</th>\n",
       "      <td>4.0</td>\n",
       "      <td>9.0</td>\n",
       "      <td>3651.0</td>\n",
       "      <td>0.208566</td>\n",
       "    </tr>\n",
       "  </tbody>\n",
       "</table>\n",
       "<p>250 rows × 4 columns</p>\n",
       "</div>"
      ],
      "text/plain": [
       "     Control  Competitor    Time        WD\n",
       "0        0.0         5.0   365.0  0.308838\n",
       "1        0.0         5.0   730.0  0.285173\n",
       "2        0.0         5.0  1095.0  0.270831\n",
       "3        0.0         5.0  1460.0  0.260052\n",
       "4        0.0         5.0  1825.0  0.252739\n",
       "..       ...         ...     ...       ...\n",
       "245      4.0         9.0  2190.0  0.221900\n",
       "246      4.0         9.0  2555.0  0.217232\n",
       "247      4.0         9.0  2920.0  0.213903\n",
       "248      4.0         9.0  3285.0  0.210932\n",
       "249      4.0         9.0  3651.0  0.208566\n",
       "\n",
       "[250 rows x 4 columns]"
      ]
     },
     "execution_count": 22,
     "metadata": {},
     "output_type": "execute_result"
    }
   ],
   "source": [
    "df"
   ]
  },
  {
   "cell_type": "code",
   "execution_count": 23,
   "id": "d1d2a2f1-a6c6-4821-a63b-c0c606396286",
   "metadata": {},
   "outputs": [],
   "source": [
    "#Convert time to years\n",
    "df['Time'] = df['Time'] / 365 \n",
    "\n",
    "#Average over each competitor\n",
    "dfmean = df.groupby(['Time']).mean().drop(['Control','Competitor'],axis=1)\n",
    "\n",
    "#Plot it\n",
    "#plot_WD(xmean,save=False,plot_error=False)"
   ]
  },
  {
   "cell_type": "code",
   "execution_count": 24,
   "id": "728a25b9-92a5-483e-92d8-4295d692b583",
   "metadata": {},
   "outputs": [],
   "source": [
    "dfmean['precision'] = '52_RN'"
   ]
  },
  {
   "cell_type": "code",
   "execution_count": 25,
   "id": "a167a0a6-e466-46c3-bddd-a63d7a56f4cc",
   "metadata": {},
   "outputs": [],
   "source": [
    "def plot_WD(df):\n",
    "    #Setup plot env\n",
    "    #Setup plot env\n",
    "    h,w = 12,12\n",
    "\n",
    "    sns.set_theme(context='talk', \n",
    "                  style='ticks', \n",
    "                  palette='deep',\n",
    "                  rc={'figure.figsize':(h,w)}\n",
    "                  )\n",
    "\n",
    "    \n",
    "\n",
    "    \n",
    "    fig, ax1 = plt.subplots(nrows=1, ncols=1, sharex=True, figsize=(h,w))\n",
    "    \n",
    "\n",
    "    p = sns.lineplot(data=df, x=\"Time\", y=\"WD\",hue=\"precision\",ax=ax1,markers=True)\n",
    "\n",
    "    #Config\n",
    "    plt.subplots_adjust(wspace=0.1, hspace=0)\n",
    "\n",
    "    ax1.set_ylabel(\"Wasserstein distance (K)\")#, fontsize = 20)\n",
    "    ax1.set_xlabel(\"Time (years)\")#, fontsize = 20)\n",
    "   \n",
    "\n",
    "    ax1.set_yscale('log')\n",
    "    ax1.set_xscale('log')\n",
    "    \n",
    "    #Other config\n",
    "    ax1.legend().set_title(None)\n",
    "   "
   ]
  },
  {
   "cell_type": "code",
   "execution_count": 26,
   "id": "0b671fe6-bba9-463c-81ce-99ea5144a62d",
   "metadata": {},
   "outputs": [
    {
     "data": {
      "image/png": "[encoded data removed]",
      "text/plain": [
       "<Figure size 864x864 with 1 Axes>"
      ]
     },
     "metadata": {},
     "output_type": "display_data"
    }
   ],
   "source": [
    "plot_WD(dfmean)"
   ]
  },
  {
   "cell_type": "code",
   "execution_count": null,
   "id": "318b274c-2aac-4b00-a25b-47dd9b961b1d",
   "metadata": {},
   "outputs": [],
   "source": []
  }
 ],
 "metadata": {
  "kernelspec": {
   "display_name": "Python 3 (ipykernel)",
   "language": "python",
   "name": "python3"
  },
  "language_info": {
   "codemirror_mode": {
    "name": "ipython",
    "version": 3
   },
   "file_extension": ".py",
   "mimetype": "text/x-python",
   "name": "python",
   "nbconvert_exporter": "python",
   "pygments_lexer": "ipython3",
   "version": "3.7.12"
  }
 },
 "nbformat": 4,
 "nbformat_minor": 5
}
