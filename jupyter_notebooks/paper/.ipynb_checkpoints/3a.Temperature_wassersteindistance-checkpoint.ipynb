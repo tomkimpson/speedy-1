{
 "cells": [
  {
   "cell_type": "markdown",
   "id": "99becc6e-9ad3-4254-959c-e868d7b6bbf4",
   "metadata": {},
   "source": [
    "# Wasserstein distance for temperature\n",
    "\n",
    "This notebook calculates the Wasserstein distance for temperature"
   ]
  },
  {
   "cell_type": "code",
   "execution_count": 4,
   "id": "2cecc88b",
   "metadata": {},
   "outputs": [],
   "source": [
    "#Import everything\n",
    "from scipy.stats import wasserstein_distance as wd\n",
    "import xarray as xr\n",
    "import numpy as np\n",
    "import matplotlib.pyplot as plt\n",
    "import time\n",
    "import glob\n",
    "import pandas as pd\n",
    "import seaborn as sns\n",
    "import sys\n",
    "from collections import defaultdict\n",
    "from tqdm.notebook import tqdm\n",
    "import matplotlib as mpl\n",
    "\n",
    "\n",
    "\n",
    "\n",
    "\n",
    "def extract_file_data(df,columns):\n",
    "    \n",
    "    surface = df.sel(pressure=925.0)\n",
    "        \n",
    "    data = surface.to_dataframe()[columns]\n",
    "    \n",
    "    return data\n",
    "\n",
    "\n",
    " \n",
    "def process_nc_file(fname,weights,true_latitude,columns):    \n",
    "    \n",
    "        #Get data \n",
    "        df = xr.open_dataset(fname)\n",
    "        \n",
    "        \n",
    "        #Reset the latitude\n",
    "        df = df.assign_coords(latitude=(true_latitude))\n",
    "        \n",
    "        \n",
    "\n",
    "       \n",
    "        #Get the data you want     \n",
    "        grid_data = extract_file_data(df,columns)\n",
    "        \n",
    "\n",
    "        \n",
    "        return grid_data\n",
    "\n",
    "def process_directory(directory,weights,true_lat,columns):\n",
    "\n",
    "    \n",
    "    #Empty arrays to hold data\n",
    "    dfs = []\n",
    "    \n",
    "    nc_files = sorted(glob.glob(directory+'/model_output*.nc')) \n",
    "                \n",
    "    for n in tqdm(nc_files): #for every model.nc file\n",
    "\n",
    "        df_snapshot = process_nc_file(n,weights,true_lat,columns)\n",
    "        dfs.append(df_snapshot)\n",
    "        \n",
    "    df = pd.concat(dfs,ignore_index=False)\n",
    "    \n",
    "    return df \n",
    "\n",
    "\n",
    "\n",
    "def get_global_weights():\n",
    "    \n",
    "     #Get the latitude weights from a special location\n",
    "    r1 = '/network/group/aopp/predict/TIP016_PAXTON_RPSPEEDY/speedyone/paper/Fig1_10year_Williams/'\n",
    "    f = r1 + 'speedyoneWILLIAMS_L2_52_RN_10y/model_output00001.nc'\n",
    "    df = xr.open_dataset(f)\n",
    "    \n",
    "    temp_file = df.temperature\n",
    "    weights = np.cos(np.deg2rad(temp_file.latitude))\n",
    "         \n",
    "    weights.name = \"weights\"\n",
    "    \n",
    "    \n",
    "    return weights, temp_file.latitude   \n",
    "\n",
    "\n",
    "# def compare_ensemble_against_control(control_dirs,competitor_dirs,columns):\n",
    "#     print ('STARTING!')\n",
    "    \n",
    "    \n",
    "#     #Get weights and correct latitudes now\n",
    "#     weights,latitude = get_global_weights()\n",
    "    \n",
    "#     #Create an array that will hold all the data you are about\n",
    "#     lenT = 10\n",
    "#     out_array = np.zeros((lenT*len(control_dirs)*len(competitor_dirs),4))\n",
    "#     global_counter = 0\n",
    "    \n",
    "#     for i in control_dirs:\n",
    "#         print ('Loading control data from', i)\n",
    "#         #Get the dataframe\n",
    "#         df_i = process_directory(i,weights,latitude,columns)\n",
    "#         #Get the dimensions: x,y,time\n",
    "#         long_idx = df_i.index.unique(level='longitude') #length 96\n",
    "#         lat_idx = df_i.index.unique(level='latitude') #length 48\n",
    "#         t_idx = df_i.index.unique(level='forecast_period') #length 3651\n",
    "\n",
    "        \n",
    "#         ensemble_number_control = i.split('_m')[-1][0]\n",
    "\n",
    "#         #Convert to a numpy array\n",
    "#         np_control = np.array(df_i.values.reshape(len(long_idx),len(lat_idx),len(t_idx)))\n",
    "#         for j in tqdm(competitor_dirs):\n",
    "#             print ('Loading competitor data from', j)\n",
    "#             ensemble_number_competitor=j.split('_m')[-1][0]\n",
    "                       \n",
    "#             #Get the competitor dataframe \n",
    "#             df_j = process_directory(j,weights,latitude,columns)\n",
    "#             #...and also make this a numpy array\n",
    "#             np_competitor = np.array(df_j.values.reshape(len(long_idx),len(lat_idx),len(t_idx)))\n",
    "\n",
    "            \n",
    "#             #Get the WD between i and j, averaged across every grid point, up to a time t\n",
    "          \n",
    "#             for t in range(1,lenT+1):\n",
    "#                 tfactor = int(t * len(t_idx)/lenT)\n",
    "#                 #print(tfactor,t,len(t_idx),lenT)\n",
    "#                 wasserstein_t_weighted = []\n",
    "#                 wasserstein_t_unweighted = []\n",
    "#                 for k in range(len(long_idx)):\n",
    "#                     for m in range(len(lat_idx)):\n",
    "#                         wasserstein= wd(np_competitor[k,m,0:tfactor], np_control[k,m,0:tfactor])\n",
    "#                         wasserstein_weighted = weights[m].values*wasserstein #Weight the value by the latitude weight\n",
    "\n",
    "\n",
    "#                         wasserstein_t_weighted.extend([wasserstein_weighted])\n",
    "#                         wasserstein_t_unweighted.extend([wasserstein])\n",
    "                \n",
    "#                 #Output to the global np array\n",
    "#                 print(ensemble_number_control,ensemble_number_competitor,tfactor, np.mean(wasserstein_t_weighted))\n",
    "#                 out_array[global_counter,:] = ensemble_number_control,ensemble_number_competitor,tfactor, np.mean(wasserstein_t_weighted)\n",
    "#                 global_counter = global_counter +1\n",
    "                \n",
    "                \n",
    "#     return out_array\n",
    "                \n",
    "                        \n",
    "\n",
    "\n"
   ]
  },
  {
   "cell_type": "code",
   "execution_count": 6,
   "id": "b763afca-02d3-4a19-bd19-3be606751bcf",
   "metadata": {},
   "outputs": [],
   "source": [
    "#Where the data is stored\n",
    "\n",
    "columns = ['temperature']\n",
    "root = '/network/group/aopp/predict/TIP016_PAXTON_RPSPEEDY/speedyone/paper/10yearWD/'\n",
    "\n",
    "\n",
    "control_dirs = glob.glob(root + 'control/*')\n",
    "competitor52 = glob.glob(root + 'competitor_52RN/*')\n",
    "competitor23 = glob.glob(root + 'competitor_23RN/*')\n",
    "competitor10 = glob.glob(root + 'competitor_10RN/*')\n",
    "competitorSR = glob.glob(root + 'competitor_10SR/*')"
   ]
  },
  {
   "cell_type": "code",
   "execution_count": 3,
   "id": "cac5ba45-8140-4ee5-9c82-264452704565",
   "metadata": {},
   "outputs": [
    {
     "name": "stdout",
     "output_type": "stream",
     "text": [
      "Loading control data from /network/group/aopp/predict/TIP016_PAXTON_RPSPEEDY/speedyone/paper/10yearWD/control/speedyone10yr_L2_52_RN_m0_WD\n"
     ]
    },
    {
     "data": {
      "application/vnd.jupyter.widget-view+json": {
       "model_id": "8d4a7375e4a64d919f3c388f9c9dcaea",
       "version_major": 2,
       "version_minor": 0
      },
      "text/plain": [
       "  0%|          | 0/11 [00:00<?, ?it/s]"
      ]
     },
     "metadata": {},
     "output_type": "display_data"
    },
    {
     "name": "stdout",
     "output_type": "stream",
     "text": [
      "Loading control data from /network/group/aopp/predict/TIP016_PAXTON_RPSPEEDY/speedyone/paper/10yearWD/control/speedyone10yr_L2_52_RN_m1_WD\n"
     ]
    },
    {
     "data": {
      "application/vnd.jupyter.widget-view+json": {
       "model_id": "61cbe853884f4761b82be30249ad8f4d",
       "version_major": 2,
       "version_minor": 0
      },
      "text/plain": [
       "  0%|          | 0/11 [00:00<?, ?it/s]"
      ]
     },
     "metadata": {},
     "output_type": "display_data"
    },
    {
     "name": "stdout",
     "output_type": "stream",
     "text": [
      "Loading control data from /network/group/aopp/predict/TIP016_PAXTON_RPSPEEDY/speedyone/paper/10yearWD/control/speedyone10yr_L2_52_RN_m2_WD\n"
     ]
    },
    {
     "data": {
      "application/vnd.jupyter.widget-view+json": {
       "model_id": "a92a3027f176496795e9a9fa1a3f4ab5",
       "version_major": 2,
       "version_minor": 0
      },
      "text/plain": [
       "  0%|          | 0/11 [00:00<?, ?it/s]"
      ]
     },
     "metadata": {},
     "output_type": "display_data"
    },
    {
     "name": "stdout",
     "output_type": "stream",
     "text": [
      "Loading control data from /network/group/aopp/predict/TIP016_PAXTON_RPSPEEDY/speedyone/paper/10yearWD/control/speedyone10yr_L2_52_RN_m3_WD\n"
     ]
    },
    {
     "data": {
      "application/vnd.jupyter.widget-view+json": {
       "model_id": "7b47f7abcd0843648dc3fcbb1ee7b056",
       "version_major": 2,
       "version_minor": 0
      },
      "text/plain": [
       "  0%|          | 0/11 [00:00<?, ?it/s]"
      ]
     },
     "metadata": {},
     "output_type": "display_data"
    },
    {
     "name": "stdout",
     "output_type": "stream",
     "text": [
      "Loading control data from /network/group/aopp/predict/TIP016_PAXTON_RPSPEEDY/speedyone/paper/10yearWD/control/speedyone10yr_L2_52_RN_m4_WD\n"
     ]
    },
    {
     "data": {
      "application/vnd.jupyter.widget-view+json": {
       "model_id": "2f0e38f32c30448ab3dbf54f29e6c89e",
       "version_major": 2,
       "version_minor": 0
      },
      "text/plain": [
       "  0%|          | 0/11 [00:00<?, ?it/s]"
      ]
     },
     "metadata": {},
     "output_type": "display_data"
    }
   ],
   "source": [
    "\n",
    "#Get weights\n",
    "weights,latitude = get_global_weights()\n",
    "\n",
    "\n",
    "def get_arrray_of_data(i):\n",
    "    df_i = process_directory(i,weights,latitude,columns)\n",
    "    #Get the dimensions: x,y,time\n",
    "    long_idx = df_i.index.unique(level='longitude') #length 96\n",
    "    lat_idx = df_i.index.unique(level='latitude') #length 48\n",
    "    t_idx = df_i.index.unique(level='forecast_period') #length 3651\n",
    "\n",
    "        \n",
    "    ensemble_number_control = i.split('_m')[-1][0]\n",
    "    \n",
    "    #Convert to a numpy array\n",
    "    np_control = np.array(df_i.values.reshape(len(long_idx),len(lat_idx),len(t_idx)))\n",
    "\n",
    "    return np_control\n",
    "    \n",
    "    \n",
    "    control_arrays.append(np_control)\n",
    "    \n",
    "#Get control dirs\n",
    "control_arrays = []\n",
    "for i in control_dirs:\n",
    "    print ('Loading control data from', i)\n",
    "    np_control = get_arrray_of_data(i)\n",
    "    control_arrays.append(np_control)"
   ]
  },
  {
   "cell_type": "code",
   "execution_count": 25,
   "id": "832b92e1-4af0-49ba-b353-9e6e8bc14519",
   "metadata": {},
   "outputs": [],
   "source": [
    "\n",
    "def control_vs_competitor(competitor,fout):\n",
    "\n",
    "    \n",
    "    #Get competitor dirs\n",
    "    competitor_arrays = []\n",
    "    for i in competitor:\n",
    "        print ('Loading competitor data from', i)\n",
    "        np_control = get_arrray_of_data(i)\n",
    "        competitor_arrays.append(np_control)\n",
    "\n",
    "        \n",
    "\n",
    "    number_of_years = 10\n",
    "    number_of_days = 3651\n",
    "\n",
    "\n",
    "    out_array = np.zeros((number_of_years*len(control_dirs)*len(competitor52),4))\n",
    "    global_counter = 0\n",
    "\n",
    "    for i in range(len(control_arrays)):\n",
    "        for j in range(len(competitor_arrays)):\n",
    "            print (i,j)\n",
    "\n",
    "            np_control = control_arrays[i]\n",
    "            np_competitor = competitor_arrays[j]\n",
    "\n",
    "            for t in range(1,number_of_years+1):\n",
    "                #print('t =', t)\n",
    "                tfactor = int(t * number_of_days/number_of_years)\n",
    "                wasserstein_t_weighted = [] #All the WDs for those GPs at time t\n",
    "                for k in range(96):\n",
    "                    for m in range(48):\n",
    "                        wasserstein= wd(np_competitor[k,m,0:tfactor], np_control[k,m,0:tfactor])\n",
    "                        wasserstein_weighted = weights[m].values*wasserstein #Weight the value by the latitude weight\n",
    "                        wasserstein_t_weighted.extend([wasserstein_weighted])\n",
    "\n",
    "\n",
    "\n",
    "                out_array[global_counter,:] = i,j,tfactor, np.mean(wasserstein_t_weighted)\n",
    "                global_counter = global_counter +1\n",
    "\n",
    "    np.save(root+fout,out_array)\n",
    "                "
   ]
  },
  {
   "cell_type": "code",
   "execution_count": 27,
   "id": "6fc9a2f0-a826-4200-8e06-6870d55e0856",
   "metadata": {},
   "outputs": [
    {
     "name": "stdout",
     "output_type": "stream",
     "text": [
      "Loading competitor data from /network/group/aopp/predict/TIP016_PAXTON_RPSPEEDY/speedyone/paper/10yearWD/competitor_23RN/speedyone10yr_L2_23_RN_m5_WD\n"
     ]
    },
    {
     "data": {
      "application/vnd.jupyter.widget-view+json": {
       "model_id": "74ef35b9333d4424a0f4e9fccabe214a",
       "version_major": 2,
       "version_minor": 0
      },
      "text/plain": [
       "  0%|          | 0/11 [00:00<?, ?it/s]"
      ]
     },
     "metadata": {},
     "output_type": "display_data"
    },
    {
     "name": "stdout",
     "output_type": "stream",
     "text": [
      "Loading competitor data from /network/group/aopp/predict/TIP016_PAXTON_RPSPEEDY/speedyone/paper/10yearWD/competitor_23RN/speedyone10yr_L2_23_RN_m6_WD\n"
     ]
    },
    {
     "data": {
      "application/vnd.jupyter.widget-view+json": {
       "model_id": "83e6ae624f2249d2859e62b401b21501",
       "version_major": 2,
       "version_minor": 0
      },
      "text/plain": [
       "  0%|          | 0/11 [00:00<?, ?it/s]"
      ]
     },
     "metadata": {},
     "output_type": "display_data"
    },
    {
     "name": "stdout",
     "output_type": "stream",
     "text": [
      "Loading competitor data from /network/group/aopp/predict/TIP016_PAXTON_RPSPEEDY/speedyone/paper/10yearWD/competitor_23RN/speedyone10yr_L2_23_RN_m7_WD\n"
     ]
    },
    {
     "data": {
      "application/vnd.jupyter.widget-view+json": {
       "model_id": "c282b8b92da94e3db796edbbb233c51d",
       "version_major": 2,
       "version_minor": 0
      },
      "text/plain": [
       "  0%|          | 0/11 [00:00<?, ?it/s]"
      ]
     },
     "metadata": {},
     "output_type": "display_data"
    },
    {
     "name": "stdout",
     "output_type": "stream",
     "text": [
      "Loading competitor data from /network/group/aopp/predict/TIP016_PAXTON_RPSPEEDY/speedyone/paper/10yearWD/competitor_23RN/speedyone10yr_L2_23_RN_m8_WD\n"
     ]
    },
    {
     "data": {
      "application/vnd.jupyter.widget-view+json": {
       "model_id": "c5baa392dd1141bba3e7608579eb3280",
       "version_major": 2,
       "version_minor": 0
      },
      "text/plain": [
       "  0%|          | 0/11 [00:00<?, ?it/s]"
      ]
     },
     "metadata": {},
     "output_type": "display_data"
    },
    {
     "name": "stdout",
     "output_type": "stream",
     "text": [
      "0 0\n",
      "0 1\n",
      "0 2\n",
      "0 3\n",
      "1 0\n",
      "1 1\n",
      "1 2\n",
      "1 3\n",
      "2 0\n",
      "2 1\n",
      "2 2\n",
      "2 3\n",
      "3 0\n",
      "3 1\n",
      "3 2\n",
      "3 3\n",
      "4 0\n",
      "4 1\n",
      "4 2\n",
      "4 3\n"
     ]
    }
   ],
   "source": [
    "control_vs_competitor(competitor23,'23RN_WD.npy')    \n"
   ]
  },
  {
   "cell_type": "code",
   "execution_count": 4,
   "id": "6383c047-f429-45ef-bbc1-8b4b9caa924f",
   "metadata": {},
   "outputs": [
    {
     "name": "stdout",
     "output_type": "stream",
     "text": [
      "Loading competitor data from /network/group/aopp/predict/TIP016_PAXTON_RPSPEEDY/speedyone/paper/10yearWD/competitor_10RN/speedyone10yr_L2_10_RN_m5_WD\n"
     ]
    },
    {
     "data": {
      "application/vnd.jupyter.widget-view+json": {
       "model_id": "f8190bd7e3f042918ca9aabd67e8fc19",
       "version_major": 2,
       "version_minor": 0
      },
      "text/plain": [
       "  0%|          | 0/11 [00:00<?, ?it/s]"
      ]
     },
     "metadata": {},
     "output_type": "display_data"
    },
    {
     "name": "stdout",
     "output_type": "stream",
     "text": [
      "Loading competitor data from /network/group/aopp/predict/TIP016_PAXTON_RPSPEEDY/speedyone/paper/10yearWD/competitor_10RN/speedyone10yr_L2_10_RN_m6_WD\n"
     ]
    },
    {
     "data": {
      "application/vnd.jupyter.widget-view+json": {
       "model_id": "403f91c4bf794eb6b064396a6fc5e0c1",
       "version_major": 2,
       "version_minor": 0
      },
      "text/plain": [
       "  0%|          | 0/11 [00:00<?, ?it/s]"
      ]
     },
     "metadata": {},
     "output_type": "display_data"
    },
    {
     "name": "stdout",
     "output_type": "stream",
     "text": [
      "Loading competitor data from /network/group/aopp/predict/TIP016_PAXTON_RPSPEEDY/speedyone/paper/10yearWD/competitor_10RN/speedyone10yr_L2_10_RN_m7_WD\n"
     ]
    },
    {
     "data": {
      "application/vnd.jupyter.widget-view+json": {
       "model_id": "7b57e2a434a3492aa38b0cb263506a37",
       "version_major": 2,
       "version_minor": 0
      },
      "text/plain": [
       "  0%|          | 0/11 [00:00<?, ?it/s]"
      ]
     },
     "metadata": {},
     "output_type": "display_data"
    },
    {
     "name": "stdout",
     "output_type": "stream",
     "text": [
      "Loading competitor data from /network/group/aopp/predict/TIP016_PAXTON_RPSPEEDY/speedyone/paper/10yearWD/competitor_10RN/speedyone10yr_L2_10_RN_m8_WD\n"
     ]
    },
    {
     "data": {
      "application/vnd.jupyter.widget-view+json": {
       "model_id": "516efb1772b745f3b5cfb0b2eca9d432",
       "version_major": 2,
       "version_minor": 0
      },
      "text/plain": [
       "  0%|          | 0/11 [00:00<?, ?it/s]"
      ]
     },
     "metadata": {},
     "output_type": "display_data"
    },
    {
     "name": "stdout",
     "output_type": "stream",
     "text": [
      "Loading competitor data from /network/group/aopp/predict/TIP016_PAXTON_RPSPEEDY/speedyone/paper/10yearWD/competitor_10RN/speedyone10yr_L2_10_RN_m9_WD\n"
     ]
    },
    {
     "data": {
      "application/vnd.jupyter.widget-view+json": {
       "model_id": "de454e6f0c604f86824783cdbd185cfc",
       "version_major": 2,
       "version_minor": 0
      },
      "text/plain": [
       "  0%|          | 0/11 [00:00<?, ?it/s]"
      ]
     },
     "metadata": {},
     "output_type": "display_data"
    }
   ],
   "source": [
    "\n",
    "\n",
    "\n",
    "    \n",
    "# #Get competitor dirs\n",
    "# competitor_arrays = []\n",
    "# for i in competitor10:\n",
    "#     print ('Loading competitor data from', i)\n",
    "#     np_control = get_arrray_of_data(i)\n",
    "#     competitor_arrays.append(np_control)\n",
    "    \n",
    "\n",
    "                "
   ]
  },
  {
   "cell_type": "code",
   "execution_count": 19,
   "id": "4337bd5d-1771-4b4e-83d0-e5f07821ad68",
   "metadata": {},
   "outputs": [],
   "source": []
  },
  {
   "cell_type": "code",
   "execution_count": 6,
   "id": "1704b953-2705-4c3a-beea-a78816894f7e",
   "metadata": {},
   "outputs": [],
   "source": [
    "np.save(root+'10RN_WD.npy',out_array)"
   ]
  },
  {
   "cell_type": "markdown",
   "id": "61c59d7b-d67a-463d-9939-e9d2a62550ca",
   "metadata": {},
   "source": [
    "# Now plot everything"
   ]
  },
  {
   "cell_type": "code",
   "execution_count": 24,
   "id": "fe2da157-b4e1-47de-8d66-64ed3f4df594",
   "metadata": {},
   "outputs": [],
   "source": [
    "data = np.load(root+'52RN_WD.npy')\n",
    "\n",
    "df = pd.DataFrame({'Control': data[:, 0], 'Competitor': data[:, 1], 'Time':data[:, 2],'WD': data[:, 3]})\n",
    "#Convert time to years\n",
    "df['Time'] = df['Time'] / 365 \n",
    "\n",
    "#Average over each competitor\n",
    "dfmean = df.groupby(['Time']).mean().drop(['Control','Competitor'],axis=1)\n",
    "dfmean['precision'] = '52_RN'"
   ]
  },
  {
   "cell_type": "code",
   "execution_count": 25,
   "id": "d1d2a2f1-a6c6-4821-a63b-c0c606396286",
   "metadata": {},
   "outputs": [],
   "source": [
    "data = np.load(root+'10SR_WD.npy')\n",
    "\n",
    "df = pd.DataFrame({'Control': data[:, 0], 'Competitor': data[:, 1], 'Time':data[:, 2],'WD': data[:, 3]})\n",
    "#Convert time to years\n",
    "df['Time'] = df['Time'] / 365 \n",
    "\n",
    "#Average over each competitor\n",
    "dfmean2 = df.groupby(['Time']).mean().drop(['Control','Competitor'],axis=1)\n",
    "dfmean2['precision'] = '10_SR'\n",
    "dfmean2 = dfmean2.drop([0.0])"
   ]
  },
  {
   "cell_type": "code",
   "execution_count": 26,
   "id": "a3f8af62-f0eb-454a-b9f7-b8e8cba270a4",
   "metadata": {},
   "outputs": [],
   "source": [
    "data = np.load(root+'10RN_WD.npy')\n",
    "\n",
    "df = pd.DataFrame({'Control': data[:, 0], 'Competitor': data[:, 1], 'Time':data[:, 2],'WD': data[:, 3]})\n",
    "#Convert time to years\n",
    "df['Time'] = df['Time'] / 365 \n",
    "\n",
    "#Average over each competitor\n",
    "dfmean3 = df.groupby(['Time']).mean().drop(['Control','Competitor'],axis=1)\n",
    "dfmean3['precision'] = '10_RN'"
   ]
  },
  {
   "cell_type": "code",
   "execution_count": 27,
   "id": "9752c092-95b6-4c88-83bb-897250809be2",
   "metadata": {},
   "outputs": [],
   "source": [
    "data = np.load(root+'23RN_WD.npy')\n",
    "\n",
    "df = pd.DataFrame({'Control': data[:, 0], 'Competitor': data[:, 1], 'Time':data[:, 2],'WD': data[:, 3]})\n",
    "#Convert time to years\n",
    "df['Time'] = df['Time'] / 365 \n",
    "\n",
    "#Average over each competitor\n",
    "dfmean4 = df.groupby(['Time']).mean().drop(['Control','Competitor'],axis=1)\n",
    "dfmean4['precision'] = '23_RN'\n",
    "dfmean4 = dfmean4.drop([0.0])"
   ]
  },
  {
   "cell_type": "code",
   "execution_count": 28,
   "id": "728a25b9-92a5-483e-92d8-4295d692b583",
   "metadata": {},
   "outputs": [],
   "source": [
    "dfp = pd.concat([dfmean3,dfmean2,dfmean4, dfmean]).reset_index()"
   ]
  },
  {
   "cell_type": "code",
   "execution_count": 55,
   "id": "a167a0a6-e466-46c3-bddd-a63d7a56f4cc",
   "metadata": {},
   "outputs": [],
   "source": [
    "def plot_WD(df,savefig):\n",
    "    #Setup plot env\n",
    "    #Setup plot env\n",
    "    h,w = 12,12\n",
    "\n",
    "    sns.set_theme(context='talk', \n",
    "                  style='ticks', \n",
    "                  palette='deep',\n",
    "                  rc={'figure.figsize':(h,w)}\n",
    "                  )\n",
    "\n",
    "    \n",
    "\n",
    "    \n",
    "    fig, ax1 = plt.subplots(nrows=1, ncols=1, sharex=True, figsize=(h,w))\n",
    "    \n",
    "\n",
    "    p = sns.lineplot(data=df, x=\"Time\", y=\"WD\",hue=\"precision\",ax=ax1,markers=True)\n",
    "\n",
    "    #Config\n",
    "    plt.subplots_adjust(wspace=0.1, hspace=0)\n",
    "    fs=26\n",
    "\n",
    "    ax1.set_ylabel(\"Wasserstein distance (K)\", fontsize = fs)\n",
    "    ax1.set_xlabel(\"Time (years)\", fontsize = fs)\n",
    "    \n",
    "    #Calculations\n",
    "    df52 = df.query('precision == \"52_RN\"').copy()\n",
    "    dfrest = df.query('precision != \"52_RN\"').copy()\n",
    "    df52['merge_column'] = df52['Time'].astype(int) #Create a column to merge on.  \n",
    "    dfrest['merge_column'] = dfrest['Time'].astype(int) #Create a column to merge on.  \n",
    "\n",
    "\n",
    "    #merge\n",
    "    df_join = pd.merge(dfrest,df52,how='left', on='merge_column', suffixes=(None, '_52RN'))\n",
    "    df_join['MBE'] = df_join['WD'] - df_join['WD_52RN']\n",
    "    df_join['MAE'] = abs(df_join['WD'] - df_join['WD_52RN'])\n",
    "    \n",
    "   \n",
    "    display(df_join.query('merge_column==10'))\n",
    "    #ax1.set_yscale('log')\n",
    "    #ax1.set_xscale('log')\n",
    "    \n",
    "    ax1.tick_params(labelsize=fs-4)\n",
    "    \n",
    "    #Other config\n",
    "    ax1.legend().set_title(None)\n",
    "    \n",
    "    if savefig is not None:\n",
    "        plt.savefig(savefig,bbox_inches='tight', pad_inches=0.5, dpi=300)\n",
    "        \n",
    "        \n",
    "        \n",
    "        \n",
    "def calculate_residuals(df,column):\n",
    "    df_truth = df.query('precision == \"52_RN\" ')                       # Get a ground truth that all others will be compared against.\n",
    "    df_rest = df.query('precision != \"52_RN\" ').reset_index(drop=True) # ...and all the others\n",
    "    \n",
    "  \n",
    "\n",
    "    df_join = pd.merge(df_rest,df_truth,\n",
    "                       how='left',on='Time',  \n",
    "                       suffixes=(None, '_truth'))                       # Join\n",
    "\n",
    "    \n",
    "    df_join['MBE'] = df_join[column] - df_join[column+'_truth']        # Residuals 1\n",
    "    df_join['MAE'] = abs(df_join[column] - df_join[column+'_truth'])   # Residuals 2\n",
    "    \n",
    "    \n",
    "    return df_join  \n",
    "        \n",
    "        \n",
    "        \n",
    "        \n",
    "        \n",
    "        \n",
    "def plot_WD_differences(df,savefig):\n",
    "    #Setup plot env\n",
    "    #Setup plot env\n",
    "    h,w = 12,12\n",
    "\n",
    "    sns.set_theme(context='talk', \n",
    "                  style='ticks', \n",
    "                  palette='deep',\n",
    "                  rc={'figure.figsize':(h,w)}\n",
    "                  )\n",
    "\n",
    "    \n",
    "\n",
    "    \n",
    "    fig, ax1 = plt.subplots(nrows=1, ncols=1, sharex=True, figsize=(h,w))\n",
    "    \n",
    "\n",
    "    df_residual = calculate_residuals(df,'WD')    \n",
    "    p = sns.lineplot(data=df_residual, x=\"Time\", y=\"MBE\",hue=\"precision\",ax=ax1,markers=True)\n",
    "\n",
    "    #Config\n",
    "    plt.subplots_adjust(wspace=0.1, hspace=0)\n",
    "\n",
    "    ax1.set_ylabel(\"Wasserstein distance error (K)\")#, fontsize = 20)\n",
    "    ax1.set_xlabel(\"Time (years)\")#, fontsize = 20)\n",
    "    \n",
    "    #Calculations\n",
    "    df52 = df.query('precision == \"52_RN\"').copy()\n",
    "    dfrest = df.query('precision != \"52_RN\"').copy()\n",
    "    df52['merge_column'] = df52['Time'].astype(int) #Create a column to merge on.  \n",
    "    dfrest['merge_column'] = dfrest['Time'].astype(int) #Create a column to merge on.  \n",
    "\n",
    "\n",
    "    #merge\n",
    "    df_join = pd.merge(dfrest,df52,how='left', on='merge_column', suffixes=(None, '_52RN'))\n",
    "    df_join['MBE'] = df_join['WD'] - df_join['WD_52RN']\n",
    "    df_join['MAE'] = abs(df_join['WD'] - df_join['WD_52RN'])\n",
    "    \n",
    "   \n",
    "    display(df_join.query('merge_column==10'))\n",
    "    ax1.set_yscale('log')\n",
    "    #ax1.set_xscale('log')\n",
    "    \n",
    "    #Other config\n",
    "    ax1.legend().set_title(None)\n",
    "    \n",
    "    if savefig is not None:\n",
    "        plt.savefig(savefig,bbox_inches='tight', pad_inches=0.5, dpi=300)\n",
    "   \n",
    "   "
   ]
  },
  {
   "cell_type": "code",
   "execution_count": 56,
   "id": "0b671fe6-bba9-463c-81ce-99ea5144a62d",
   "metadata": {},
   "outputs": [
    {
     "data": {
      "text/html": [
       "<div>\n",
       "<style scoped>\n",
       "    .dataframe tbody tr th:only-of-type {\n",
       "        vertical-align: middle;\n",
       "    }\n",
       "\n",
       "    .dataframe tbody tr th {\n",
       "        vertical-align: top;\n",
       "    }\n",
       "\n",
       "    .dataframe thead th {\n",
       "        text-align: right;\n",
       "    }\n",
       "</style>\n",
       "<table border=\"1\" class=\"dataframe\">\n",
       "  <thead>\n",
       "    <tr style=\"text-align: right;\">\n",
       "      <th></th>\n",
       "      <th>Time</th>\n",
       "      <th>WD</th>\n",
       "      <th>precision</th>\n",
       "      <th>merge_column</th>\n",
       "      <th>Time_52RN</th>\n",
       "      <th>WD_52RN</th>\n",
       "      <th>precision_52RN</th>\n",
       "      <th>MBE</th>\n",
       "      <th>MAE</th>\n",
       "    </tr>\n",
       "  </thead>\n",
       "  <tbody>\n",
       "    <tr>\n",
       "      <th>9</th>\n",
       "      <td>10.00274</td>\n",
       "      <td>0.317198</td>\n",
       "      <td>10_RN</td>\n",
       "      <td>10</td>\n",
       "      <td>10.00274</td>\n",
       "      <td>0.221249</td>\n",
       "      <td>52_RN</td>\n",
       "      <td>0.095948</td>\n",
       "      <td>0.095948</td>\n",
       "    </tr>\n",
       "    <tr>\n",
       "      <th>19</th>\n",
       "      <td>10.00274</td>\n",
       "      <td>0.226259</td>\n",
       "      <td>10_SR</td>\n",
       "      <td>10</td>\n",
       "      <td>10.00274</td>\n",
       "      <td>0.221249</td>\n",
       "      <td>52_RN</td>\n",
       "      <td>0.005010</td>\n",
       "      <td>0.005010</td>\n",
       "    </tr>\n",
       "    <tr>\n",
       "      <th>29</th>\n",
       "      <td>10.00274</td>\n",
       "      <td>0.225819</td>\n",
       "      <td>23_RN</td>\n",
       "      <td>10</td>\n",
       "      <td>10.00274</td>\n",
       "      <td>0.221249</td>\n",
       "      <td>52_RN</td>\n",
       "      <td>0.004570</td>\n",
       "      <td>0.004570</td>\n",
       "    </tr>\n",
       "  </tbody>\n",
       "</table>\n",
       "</div>"
      ],
      "text/plain": [
       "        Time        WD precision  merge_column  Time_52RN   WD_52RN  \\\n",
       "9   10.00274  0.317198     10_RN            10   10.00274  0.221249   \n",
       "19  10.00274  0.226259     10_SR            10   10.00274  0.221249   \n",
       "29  10.00274  0.225819     23_RN            10   10.00274  0.221249   \n",
       "\n",
       "   precision_52RN       MBE       MAE  \n",
       "9           52_RN  0.095948  0.095948  \n",
       "19          52_RN  0.005010  0.005010  \n",
       "29          52_RN  0.004570  0.004570  "
      ]
     },
     "metadata": {},
     "output_type": "display_data"
    },
    {
     "data": {
      "image/png": "[encoded data removed]",
      "text/plain": [
       "<Figure size 864x864 with 1 Axes>"
      ]
     },
     "metadata": {},
     "output_type": "display_data"
    }
   ],
   "source": [
    "plot_WD(dfp,savefig='figures/WD_temperature.png')"
   ]
  },
  {
   "cell_type": "code",
   "execution_count": 51,
   "id": "3d734478-e788-4142-9ada-59fccd9c82e2",
   "metadata": {},
   "outputs": [
    {
     "data": {
      "text/html": [
       "<div>\n",
       "<style scoped>\n",
       "    .dataframe tbody tr th:only-of-type {\n",
       "        vertical-align: middle;\n",
       "    }\n",
       "\n",
       "    .dataframe tbody tr th {\n",
       "        vertical-align: top;\n",
       "    }\n",
       "\n",
       "    .dataframe thead th {\n",
       "        text-align: right;\n",
       "    }\n",
       "</style>\n",
       "<table border=\"1\" class=\"dataframe\">\n",
       "  <thead>\n",
       "    <tr style=\"text-align: right;\">\n",
       "      <th></th>\n",
       "      <th>Time</th>\n",
       "      <th>WD</th>\n",
       "      <th>precision</th>\n",
       "      <th>merge_column</th>\n",
       "      <th>Time_52RN</th>\n",
       "      <th>WD_52RN</th>\n",
       "      <th>precision_52RN</th>\n",
       "      <th>MBE</th>\n",
       "      <th>MAE</th>\n",
       "    </tr>\n",
       "  </thead>\n",
       "  <tbody>\n",
       "    <tr>\n",
       "      <th>9</th>\n",
       "      <td>10.00274</td>\n",
       "      <td>0.317198</td>\n",
       "      <td>10_RN</td>\n",
       "      <td>10</td>\n",
       "      <td>10.00274</td>\n",
       "      <td>0.221249</td>\n",
       "      <td>52_RN</td>\n",
       "      <td>0.095948</td>\n",
       "      <td>0.095948</td>\n",
       "    </tr>\n",
       "    <tr>\n",
       "      <th>19</th>\n",
       "      <td>10.00274</td>\n",
       "      <td>0.226259</td>\n",
       "      <td>10_SR</td>\n",
       "      <td>10</td>\n",
       "      <td>10.00274</td>\n",
       "      <td>0.221249</td>\n",
       "      <td>52_RN</td>\n",
       "      <td>0.005010</td>\n",
       "      <td>0.005010</td>\n",
       "    </tr>\n",
       "    <tr>\n",
       "      <th>29</th>\n",
       "      <td>10.00274</td>\n",
       "      <td>0.225819</td>\n",
       "      <td>23_RN</td>\n",
       "      <td>10</td>\n",
       "      <td>10.00274</td>\n",
       "      <td>0.221249</td>\n",
       "      <td>52_RN</td>\n",
       "      <td>0.004570</td>\n",
       "      <td>0.004570</td>\n",
       "    </tr>\n",
       "  </tbody>\n",
       "</table>\n",
       "</div>"
      ],
      "text/plain": [
       "        Time        WD precision  merge_column  Time_52RN   WD_52RN  \\\n",
       "9   10.00274  0.317198     10_RN            10   10.00274  0.221249   \n",
       "19  10.00274  0.226259     10_SR            10   10.00274  0.221249   \n",
       "29  10.00274  0.225819     23_RN            10   10.00274  0.221249   \n",
       "\n",
       "   precision_52RN       MBE       MAE  \n",
       "9           52_RN  0.095948  0.095948  \n",
       "19          52_RN  0.005010  0.005010  \n",
       "29          52_RN  0.004570  0.004570  "
      ]
     },
     "metadata": {},
     "output_type": "display_data"
    },
    {
     "data": {
      "image/png": "[encoded data removed]",
      "text/plain": [
       "<Figure size 864x864 with 1 Axes>"
      ]
     },
     "metadata": {},
     "output_type": "display_data"
    }
   ],
   "source": [
    "plot_WD_differences(dfp,savefig='figures/WD_temperature_residual.png)"
   ]
  },
  {
   "cell_type": "code",
   "execution_count": 31,
   "id": "318b274c-2aac-4b00-a25b-47dd9b961b1d",
   "metadata": {},
   "outputs": [
    {
     "data": {
      "text/html": [
       "<div>\n",
       "<style scoped>\n",
       "    .dataframe tbody tr th:only-of-type {\n",
       "        vertical-align: middle;\n",
       "    }\n",
       "\n",
       "    .dataframe tbody tr th {\n",
       "        vertical-align: top;\n",
       "    }\n",
       "\n",
       "    .dataframe thead th {\n",
       "        text-align: right;\n",
       "    }\n",
       "</style>\n",
       "<table border=\"1\" class=\"dataframe\">\n",
       "  <thead>\n",
       "    <tr style=\"text-align: right;\">\n",
       "      <th></th>\n",
       "      <th>Time</th>\n",
       "      <th>WD</th>\n",
       "      <th>precision</th>\n",
       "    </tr>\n",
       "  </thead>\n",
       "  <tbody>\n",
       "    <tr>\n",
       "      <th>0</th>\n",
       "      <td>1.00000</td>\n",
       "      <td>0.395441</td>\n",
       "      <td>10_RN</td>\n",
       "    </tr>\n",
       "    <tr>\n",
       "      <th>1</th>\n",
       "      <td>2.00000</td>\n",
       "      <td>0.374109</td>\n",
       "      <td>10_RN</td>\n",
       "    </tr>\n",
       "    <tr>\n",
       "      <th>2</th>\n",
       "      <td>3.00000</td>\n",
       "      <td>0.359653</td>\n",
       "      <td>10_RN</td>\n",
       "    </tr>\n",
       "    <tr>\n",
       "      <th>3</th>\n",
       "      <td>4.00000</td>\n",
       "      <td>0.348693</td>\n",
       "      <td>10_RN</td>\n",
       "    </tr>\n",
       "    <tr>\n",
       "      <th>4</th>\n",
       "      <td>5.00000</td>\n",
       "      <td>0.340445</td>\n",
       "      <td>10_RN</td>\n",
       "    </tr>\n",
       "    <tr>\n",
       "      <th>5</th>\n",
       "      <td>6.00000</td>\n",
       "      <td>0.333654</td>\n",
       "      <td>10_RN</td>\n",
       "    </tr>\n",
       "    <tr>\n",
       "      <th>6</th>\n",
       "      <td>7.00000</td>\n",
       "      <td>0.328328</td>\n",
       "      <td>10_RN</td>\n",
       "    </tr>\n",
       "    <tr>\n",
       "      <th>7</th>\n",
       "      <td>8.00000</td>\n",
       "      <td>0.324083</td>\n",
       "      <td>10_RN</td>\n",
       "    </tr>\n",
       "    <tr>\n",
       "      <th>8</th>\n",
       "      <td>9.00000</td>\n",
       "      <td>0.320449</td>\n",
       "      <td>10_RN</td>\n",
       "    </tr>\n",
       "    <tr>\n",
       "      <th>9</th>\n",
       "      <td>10.00274</td>\n",
       "      <td>0.317198</td>\n",
       "      <td>10_RN</td>\n",
       "    </tr>\n",
       "    <tr>\n",
       "      <th>10</th>\n",
       "      <td>1.00000</td>\n",
       "      <td>0.300178</td>\n",
       "      <td>10_SR</td>\n",
       "    </tr>\n",
       "    <tr>\n",
       "      <th>11</th>\n",
       "      <td>2.00000</td>\n",
       "      <td>0.277137</td>\n",
       "      <td>10_SR</td>\n",
       "    </tr>\n",
       "    <tr>\n",
       "      <th>12</th>\n",
       "      <td>3.00000</td>\n",
       "      <td>0.262463</td>\n",
       "      <td>10_SR</td>\n",
       "    </tr>\n",
       "    <tr>\n",
       "      <th>13</th>\n",
       "      <td>4.00000</td>\n",
       "      <td>0.252334</td>\n",
       "      <td>10_SR</td>\n",
       "    </tr>\n",
       "    <tr>\n",
       "      <th>14</th>\n",
       "      <td>5.00000</td>\n",
       "      <td>0.244866</td>\n",
       "      <td>10_SR</td>\n",
       "    </tr>\n",
       "    <tr>\n",
       "      <th>15</th>\n",
       "      <td>6.00000</td>\n",
       "      <td>0.239336</td>\n",
       "      <td>10_SR</td>\n",
       "    </tr>\n",
       "    <tr>\n",
       "      <th>16</th>\n",
       "      <td>7.00000</td>\n",
       "      <td>0.234998</td>\n",
       "      <td>10_SR</td>\n",
       "    </tr>\n",
       "    <tr>\n",
       "      <th>17</th>\n",
       "      <td>8.00000</td>\n",
       "      <td>0.231631</td>\n",
       "      <td>10_SR</td>\n",
       "    </tr>\n",
       "    <tr>\n",
       "      <th>18</th>\n",
       "      <td>9.00000</td>\n",
       "      <td>0.228746</td>\n",
       "      <td>10_SR</td>\n",
       "    </tr>\n",
       "    <tr>\n",
       "      <th>19</th>\n",
       "      <td>10.00274</td>\n",
       "      <td>0.226259</td>\n",
       "      <td>10_SR</td>\n",
       "    </tr>\n",
       "    <tr>\n",
       "      <th>20</th>\n",
       "      <td>1.00000</td>\n",
       "      <td>0.301296</td>\n",
       "      <td>23_RN</td>\n",
       "    </tr>\n",
       "    <tr>\n",
       "      <th>21</th>\n",
       "      <td>2.00000</td>\n",
       "      <td>0.278053</td>\n",
       "      <td>23_RN</td>\n",
       "    </tr>\n",
       "    <tr>\n",
       "      <th>22</th>\n",
       "      <td>3.00000</td>\n",
       "      <td>0.263254</td>\n",
       "      <td>23_RN</td>\n",
       "    </tr>\n",
       "    <tr>\n",
       "      <th>23</th>\n",
       "      <td>4.00000</td>\n",
       "      <td>0.252977</td>\n",
       "      <td>23_RN</td>\n",
       "    </tr>\n",
       "    <tr>\n",
       "      <th>24</th>\n",
       "      <td>5.00000</td>\n",
       "      <td>0.245370</td>\n",
       "      <td>23_RN</td>\n",
       "    </tr>\n",
       "    <tr>\n",
       "      <th>25</th>\n",
       "      <td>6.00000</td>\n",
       "      <td>0.239655</td>\n",
       "      <td>23_RN</td>\n",
       "    </tr>\n",
       "    <tr>\n",
       "      <th>26</th>\n",
       "      <td>7.00000</td>\n",
       "      <td>0.235138</td>\n",
       "      <td>23_RN</td>\n",
       "    </tr>\n",
       "    <tr>\n",
       "      <th>27</th>\n",
       "      <td>8.00000</td>\n",
       "      <td>0.231566</td>\n",
       "      <td>23_RN</td>\n",
       "    </tr>\n",
       "    <tr>\n",
       "      <th>28</th>\n",
       "      <td>9.00000</td>\n",
       "      <td>0.228508</td>\n",
       "      <td>23_RN</td>\n",
       "    </tr>\n",
       "    <tr>\n",
       "      <th>29</th>\n",
       "      <td>10.00274</td>\n",
       "      <td>0.225819</td>\n",
       "      <td>23_RN</td>\n",
       "    </tr>\n",
       "    <tr>\n",
       "      <th>30</th>\n",
       "      <td>1.00000</td>\n",
       "      <td>0.295423</td>\n",
       "      <td>52_RN</td>\n",
       "    </tr>\n",
       "    <tr>\n",
       "      <th>31</th>\n",
       "      <td>2.00000</td>\n",
       "      <td>0.272230</td>\n",
       "      <td>52_RN</td>\n",
       "    </tr>\n",
       "    <tr>\n",
       "      <th>32</th>\n",
       "      <td>3.00000</td>\n",
       "      <td>0.257761</td>\n",
       "      <td>52_RN</td>\n",
       "    </tr>\n",
       "    <tr>\n",
       "      <th>33</th>\n",
       "      <td>4.00000</td>\n",
       "      <td>0.247538</td>\n",
       "      <td>52_RN</td>\n",
       "    </tr>\n",
       "    <tr>\n",
       "      <th>34</th>\n",
       "      <td>5.00000</td>\n",
       "      <td>0.240144</td>\n",
       "      <td>52_RN</td>\n",
       "    </tr>\n",
       "    <tr>\n",
       "      <th>35</th>\n",
       "      <td>6.00000</td>\n",
       "      <td>0.234499</td>\n",
       "      <td>52_RN</td>\n",
       "    </tr>\n",
       "    <tr>\n",
       "      <th>36</th>\n",
       "      <td>7.00000</td>\n",
       "      <td>0.230116</td>\n",
       "      <td>52_RN</td>\n",
       "    </tr>\n",
       "    <tr>\n",
       "      <th>37</th>\n",
       "      <td>8.00000</td>\n",
       "      <td>0.226689</td>\n",
       "      <td>52_RN</td>\n",
       "    </tr>\n",
       "    <tr>\n",
       "      <th>38</th>\n",
       "      <td>9.00000</td>\n",
       "      <td>0.223782</td>\n",
       "      <td>52_RN</td>\n",
       "    </tr>\n",
       "    <tr>\n",
       "      <th>39</th>\n",
       "      <td>10.00274</td>\n",
       "      <td>0.221249</td>\n",
       "      <td>52_RN</td>\n",
       "    </tr>\n",
       "  </tbody>\n",
       "</table>\n",
       "</div>"
      ],
      "text/plain": [
       "        Time        WD precision\n",
       "0    1.00000  0.395441     10_RN\n",
       "1    2.00000  0.374109     10_RN\n",
       "2    3.00000  0.359653     10_RN\n",
       "3    4.00000  0.348693     10_RN\n",
       "4    5.00000  0.340445     10_RN\n",
       "5    6.00000  0.333654     10_RN\n",
       "6    7.00000  0.328328     10_RN\n",
       "7    8.00000  0.324083     10_RN\n",
       "8    9.00000  0.320449     10_RN\n",
       "9   10.00274  0.317198     10_RN\n",
       "10   1.00000  0.300178     10_SR\n",
       "11   2.00000  0.277137     10_SR\n",
       "12   3.00000  0.262463     10_SR\n",
       "13   4.00000  0.252334     10_SR\n",
       "14   5.00000  0.244866     10_SR\n",
       "15   6.00000  0.239336     10_SR\n",
       "16   7.00000  0.234998     10_SR\n",
       "17   8.00000  0.231631     10_SR\n",
       "18   9.00000  0.228746     10_SR\n",
       "19  10.00274  0.226259     10_SR\n",
       "20   1.00000  0.301296     23_RN\n",
       "21   2.00000  0.278053     23_RN\n",
       "22   3.00000  0.263254     23_RN\n",
       "23   4.00000  0.252977     23_RN\n",
       "24   5.00000  0.245370     23_RN\n",
       "25   6.00000  0.239655     23_RN\n",
       "26   7.00000  0.235138     23_RN\n",
       "27   8.00000  0.231566     23_RN\n",
       "28   9.00000  0.228508     23_RN\n",
       "29  10.00274  0.225819     23_RN\n",
       "30   1.00000  0.295423     52_RN\n",
       "31   2.00000  0.272230     52_RN\n",
       "32   3.00000  0.257761     52_RN\n",
       "33   4.00000  0.247538     52_RN\n",
       "34   5.00000  0.240144     52_RN\n",
       "35   6.00000  0.234499     52_RN\n",
       "36   7.00000  0.230116     52_RN\n",
       "37   8.00000  0.226689     52_RN\n",
       "38   9.00000  0.223782     52_RN\n",
       "39  10.00274  0.221249     52_RN"
      ]
     },
     "execution_count": 31,
     "metadata": {},
     "output_type": "execute_result"
    }
   ],
   "source": [
    "dfp"
   ]
  },
  {
   "cell_type": "code",
   "execution_count": null,
   "id": "942d04e8-8037-4cba-9e6a-c8a56fb85fde",
   "metadata": {},
   "outputs": [],
   "source": []
  }
 ],
 "metadata": {
  "kernelspec": {
   "display_name": "Python 3 (ipykernel)",
   "language": "python",
   "name": "python3"
  },
  "language_info": {
   "codemirror_mode": {
    "name": "ipython",
    "version": 3
   },
   "file_extension": ".py",
   "mimetype": "text/x-python",
   "name": "python",
   "nbconvert_exporter": "python",
   "pygments_lexer": "ipython3",
   "version": "3.7.12"
  }
 },
 "nbformat": 4,
 "nbformat_minor": 5
}
