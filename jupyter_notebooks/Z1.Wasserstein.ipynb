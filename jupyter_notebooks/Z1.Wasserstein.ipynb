{
 "cells": [
  {
   "cell_type": "code",
   "execution_count": 31,
   "id": "2cecc88b",
   "metadata": {},
   "outputs": [],
   "source": [
    "from scipy.stats import wasserstein_distance as wd\n",
    "\n",
    "\n",
    "\n",
    "#Import everything\n",
    "import xarray as xr\n",
    "import numpy as np\n",
    "import matplotlib.pyplot as plt\n",
    "import time\n",
    "import glob\n",
    "import pandas as pd\n",
    "import seaborn as sns\n",
    "import sys\n",
    "from collections import defaultdict\n",
    "from tqdm.notebook import tqdm\n",
    "import matplotlib as mpl\n",
    "\n",
    "\n",
    "\n",
    "\n",
    "\n",
    "def extract_file_data(df,columns):\n",
    "    \n",
    "    surface = df.sel(pressure=925.0)\n",
    "        \n",
    "    data = surface.to_dataframe()[columns]\n",
    "    \n",
    "    return data\n",
    "\n",
    "\n",
    " \n",
    "def process_nc_file(fname,weights,true_latitude,columns):    \n",
    "    \n",
    "        #Get data \n",
    "        df = xr.open_dataset(fname)\n",
    "        \n",
    "        \n",
    "        #Reset the latitude\n",
    "        df = df.assign_coords(latitude=(true_latitude))\n",
    "        \n",
    "\n",
    "       \n",
    "        #Get the data you want     \n",
    "        grid_data = extract_file_data(df,columns)\n",
    "        \n",
    "\n",
    "        \n",
    "        return grid_data\n",
    "\n",
    "def process_directory(directory,weights,true_lat,columns):\n",
    "\n",
    "    \n",
    "    #Empty arrays to hold data\n",
    "    dfs = []\n",
    "    \n",
    "    nc_files = sorted(glob.glob(directory+'/model_output*.nc')) #Dont process last file which is only super short\n",
    "                \n",
    "    for n in tqdm(nc_files): #for every model.nc file\n",
    "\n",
    "        df_snapshot = process_nc_file(n,weights,true_lat,columns)\n",
    "        dfs.append(df_snapshot)\n",
    "        \n",
    "    df = pd.concat(dfs,ignore_index=False)\n",
    "    \n",
    "    return df \n",
    "\n",
    "\n",
    "        \n",
    "    \n",
    "def get_global_weights():\n",
    "    \n",
    "     #Get the latitude weights from a special location\n",
    "    r1 = '/network/group/aopp/predict/TIP016_PAXTON_RPSPEEDY/speedyone/paper/Fig1_10year_Williams/'\n",
    "    f = r1 + 'speedyoneWILLIAMS_L2_52_RN_10y/model_output00001.nc'\n",
    "    df = xr.open_dataset(f)\n",
    "    \n",
    "    temp_file = df.temperature\n",
    "    weights = np.cos(np.deg2rad(temp_file.latitude))\n",
    "         \n",
    "    weights.name = \"weights\"\n",
    "    \n",
    "    \n",
    "    return weights, temp_file.latitude   \n",
    "\n",
    "\n",
    "def compare_ensemble_against_control(control_dirs,competitor_dirs,columns):\n",
    "    print ('STARTING!')\n",
    "    \n",
    "    \n",
    "    #Get weights and correct latitudes now\n",
    "    weights,latitude = get_global_weights()\n",
    "    \n",
    "    #Create an array that will hold all the data you are about\n",
    "    lenT = 10\n",
    "    out_array = np.zeros((lenT*len(control_dirs)*len(competitor_dirs),4))\n",
    "    global_counter = 0\n",
    "    \n",
    "    for i in control_dirs:\n",
    "        print ('Loading control data from', i)\n",
    "        #Get the dataframe\n",
    "        df_i = process_directory(i,weights,latitude,columns)\n",
    "        #Get the dimensions: x,y,time\n",
    "        long_idx = df_i.index.unique(level='longitude') #length 96\n",
    "        lat_idx = df_i.index.unique(level='latitude') #length 48\n",
    "        t_idx = df_i.index.unique(level='forecast_period') #length 3651\n",
    "\n",
    "        \n",
    "        ensemble_number_control = i.split('_m')[-1][0]\n",
    "\n",
    "        #Convert to a numpy array\n",
    "        np_control = np.array(df_i.values.reshape(len(long_idx),len(lat_idx),len(t_idx)))\n",
    "        for j in tqdm(competitor_dirs):\n",
    "            print ('Loading competitor data from', j)\n",
    "            ensemble_number_competitor=j.split('_m')[-1][0]\n",
    "                       \n",
    "            #Get the competitor dataframe \n",
    "            df_j = process_directory(j,weights,latitude,columns)\n",
    "            #...and also make this a numpy array\n",
    "            np_competitor = np.array(df_j.values.reshape(len(long_idx),len(lat_idx),len(t_idx)))\n",
    "\n",
    "            \n",
    "            #Get the WD between i and j, averaged across every grid point, up to a time t\n",
    "          \n",
    "            for t in range(1,lenT+1):\n",
    "                tfactor = int(t * len(t_idx)/lenT)\n",
    "                #print(tfactor,t,len(t_idx),lenT)\n",
    "                wasserstein_t_weighted = []\n",
    "                wasserstein_t_unweighted = []\n",
    "                for k in range(len(long_idx)):\n",
    "                    for m in range(len(lat_idx)):\n",
    "                        wasserstein= wd(np_competitor[k,m,0:tfactor], np_control[k,m,0:tfactor])\n",
    "                        wasserstein_weighted = weights[m].values*wasserstein #Weight the value by the latitude weight\n",
    "\n",
    "\n",
    "                        wasserstein_t_weighted.extend([wasserstein_weighted])\n",
    "                        wasserstein_t_unweighted.extend([wasserstein])\n",
    "                \n",
    "                #Output to the global np array\n",
    "                print(ensemble_number_control,ensemble_number_competitor,tfactor, np.mean(wasserstein_t_weighted))\n",
    "                out_array[global_counter,:] = ensemble_number_control,ensemble_number_competitor,tfactor, np.mean(wasserstein_t_weighted)\n",
    "                global_counter = global_counter +1\n",
    "                \n",
    "                \n",
    "    return out_array\n",
    "                \n",
    "                        \n",
    "\n",
    "columns = ['temperature']\n",
    "root = '/network/group/aopp/predict/TIP016_PAXTON_RPSPEEDY/speedyone/paper/10yearWD/'\n",
    "\n",
    "\n",
    "control_dirs = glob.glob(root + 'control/*')\n",
    "competitor52 = glob.glob(root + 'competitor_52RN/*')\n",
    "competitorSR = glob.glob(root + 'competitor_10SR/*')\n",
    "    \n",
    "# output = compare_ensemble_against_control(control_dirs,competitor_dirs,columns)\n",
    "# np.save(root+'52RN_WD.npy',output)\n",
    "\n",
    "\n"
   ]
  },
  {
   "cell_type": "code",
   "execution_count": 33,
   "id": "317ed2c0-409b-4233-b4df-c90d2390661a",
   "metadata": {},
   "outputs": [
    {
     "name": "stdout",
     "output_type": "stream",
     "text": [
      "STARTING!\n",
      "Loading control data from /network/group/aopp/predict/TIP016_PAXTON_RPSPEEDY/speedyone/paper/10yearWD/control/speedyone10yr_L2_52_RN_m0_WD\n"
     ]
    },
    {
     "data": {
      "application/vnd.jupyter.widget-view+json": {
       "model_id": "cc650ca905824272b943ffbb045bea4d",
       "version_major": 2,
       "version_minor": 0
      },
      "text/plain": [
       "  0%|          | 0/11 [00:00<?, ?it/s]"
      ]
     },
     "metadata": {},
     "output_type": "display_data"
    },
    {
     "data": {
      "application/vnd.jupyter.widget-view+json": {
       "model_id": "06f51428897945ff84785c94b4b36009",
       "version_major": 2,
       "version_minor": 0
      },
      "text/plain": [
       "  0%|          | 0/5 [00:00<?, ?it/s]"
      ]
     },
     "metadata": {},
     "output_type": "display_data"
    },
    {
     "name": "stdout",
     "output_type": "stream",
     "text": [
      "Loading competitor data from /network/group/aopp/predict/TIP016_PAXTON_RPSPEEDY/speedyone/paper/10yearWD/competitor_52RN/speedyone10yr_L2_52_RN_m5_WD\n"
     ]
    },
    {
     "data": {
      "application/vnd.jupyter.widget-view+json": {
       "model_id": "eba35d20a8a24b938db8f3f6cf30e0ba",
       "version_major": 2,
       "version_minor": 0
      },
      "text/plain": [
       "  0%|          | 0/11 [00:00<?, ?it/s]"
      ]
     },
     "metadata": {},
     "output_type": "display_data"
    },
    {
     "name": "stdout",
     "output_type": "stream",
     "text": [
      "0 5 365 0.300760089463543\n",
      "0 5 730 0.27641234238135326\n",
      "0 5 1095 0.2622829330297691\n",
      "0 5 1460 0.2521624134024778\n",
      "0 5 1825 0.2449843186778964\n",
      "0 5 2190 0.23942515432597686\n",
      "0 5 2555 0.23539167494183758\n",
      "0 5 2920 0.23226519559044576\n",
      "0 5 3285 0.2294844899578825\n",
      "0 5 3651 0.2269291739477865\n",
      "Loading competitor data from /network/group/aopp/predict/TIP016_PAXTON_RPSPEEDY/speedyone/paper/10yearWD/competitor_52RN/speedyone10yr_L2_52_RN_m6_WD\n"
     ]
    },
    {
     "data": {
      "application/vnd.jupyter.widget-view+json": {
       "model_id": "a81d1ea5c04546d08310301d9884db3e",
       "version_major": 2,
       "version_minor": 0
      },
      "text/plain": [
       "  0%|          | 0/11 [00:00<?, ?it/s]"
      ]
     },
     "metadata": {},
     "output_type": "display_data"
    },
    {
     "name": "stdout",
     "output_type": "stream",
     "text": [
      "0 6 365 0.2903252355211312\n",
      "0 6 730 0.26636507684236477\n",
      "0 6 1095 0.2514167814310262\n",
      "0 6 1460 0.24152379194883203\n",
      "0 6 1825 0.23374107013698264\n",
      "0 6 2190 0.22815570191754095\n",
      "0 6 2555 0.22327162830267838\n",
      "0 6 2920 0.21974483213120874\n",
      "0 6 3285 0.21645053029234382\n",
      "0 6 3651 0.21364196479680667\n",
      "Loading competitor data from /network/group/aopp/predict/TIP016_PAXTON_RPSPEEDY/speedyone/paper/10yearWD/competitor_52RN/speedyone10yr_L2_52_RN_m7_WD\n"
     ]
    },
    {
     "data": {
      "application/vnd.jupyter.widget-view+json": {
       "model_id": "55c9fde0298547e2b3ef36e92f7252c6",
       "version_major": 2,
       "version_minor": 0
      },
      "text/plain": [
       "  0%|          | 0/11 [00:00<?, ?it/s]"
      ]
     },
     "metadata": {},
     "output_type": "display_data"
    },
    {
     "name": "stdout",
     "output_type": "stream",
     "text": [
      "0 7 365 0.2890453780694349\n",
      "0 7 730 0.2656407002271982\n",
      "0 7 1095 0.25137515451190606\n",
      "0 7 1460 0.2411909327605546\n",
      "0 7 1825 0.23383224854242485\n",
      "0 7 2190 0.22823567091149138\n",
      "0 7 2555 0.2238985364800962\n",
      "0 7 2920 0.2206912340746763\n",
      "0 7 3285 0.21776770410040439\n",
      "0 7 3651 0.21542016798325386\n",
      "Loading competitor data from /network/group/aopp/predict/TIP016_PAXTON_RPSPEEDY/speedyone/paper/10yearWD/competitor_52RN/speedyone10yr_L2_52_RN_m8_WD\n"
     ]
    },
    {
     "data": {
      "application/vnd.jupyter.widget-view+json": {
       "model_id": "8348276df51a492082e9d0345fb5b81d",
       "version_major": 2,
       "version_minor": 0
      },
      "text/plain": [
       "  0%|          | 0/11 [00:00<?, ?it/s]"
      ]
     },
     "metadata": {},
     "output_type": "display_data"
    },
    {
     "name": "stdout",
     "output_type": "stream",
     "text": [
      "0 8 365 0.29090590782129894\n",
      "0 8 730 0.2677564711478371\n",
      "0 8 1095 0.25326307503360507\n",
      "0 8 1460 0.24325631903618086\n",
      "0 8 1825 0.23588424826663257\n",
      "0 8 2190 0.23046682636976484\n",
      "0 8 2555 0.2263402189338233\n",
      "0 8 2920 0.2229685796280344\n",
      "0 8 3285 0.2202914524891881\n",
      "0 8 3651 0.2177254082781946\n",
      "Loading competitor data from /network/group/aopp/predict/TIP016_PAXTON_RPSPEEDY/speedyone/paper/10yearWD/competitor_52RN/speedyone10yr_L2_52_RN_m9_WD\n"
     ]
    },
    {
     "data": {
      "application/vnd.jupyter.widget-view+json": {
       "model_id": "18ec5b91761641748b3d00089964a9cd",
       "version_major": 2,
       "version_minor": 0
      },
      "text/plain": [
       "  0%|          | 0/11 [00:00<?, ?it/s]"
      ]
     },
     "metadata": {},
     "output_type": "display_data"
    },
    {
     "name": "stdout",
     "output_type": "stream",
     "text": [
      "0 9 365 0.2949675043292419\n",
      "0 9 730 0.2728369574079375\n",
      "0 9 1095 0.25916417399227437\n",
      "0 9 1460 0.2495140625763254\n",
      "0 9 1825 0.24220688689794181\n",
      "0 9 2190 0.2362628836019979\n",
      "0 9 2555 0.2315111703681986\n",
      "0 9 2920 0.2278299603854809\n",
      "0 9 3285 0.224608157237991\n",
      "0 9 3651 0.22173965497430645\n",
      "Loading control data from /network/group/aopp/predict/TIP016_PAXTON_RPSPEEDY/speedyone/paper/10yearWD/control/speedyone10yr_L2_52_RN_m1_WD\n"
     ]
    },
    {
     "data": {
      "application/vnd.jupyter.widget-view+json": {
       "model_id": "93627a16b0414574a5c2ad2ac167798e",
       "version_major": 2,
       "version_minor": 0
      },
      "text/plain": [
       "  0%|          | 0/11 [00:00<?, ?it/s]"
      ]
     },
     "metadata": {},
     "output_type": "display_data"
    },
    {
     "data": {
      "application/vnd.jupyter.widget-view+json": {
       "model_id": "d9ac16e01be94b7c83ba88a10e8e7314",
       "version_major": 2,
       "version_minor": 0
      },
      "text/plain": [
       "  0%|          | 0/5 [00:00<?, ?it/s]"
      ]
     },
     "metadata": {},
     "output_type": "display_data"
    },
    {
     "name": "stdout",
     "output_type": "stream",
     "text": [
      "Loading competitor data from /network/group/aopp/predict/TIP016_PAXTON_RPSPEEDY/speedyone/paper/10yearWD/competitor_52RN/speedyone10yr_L2_52_RN_m5_WD\n"
     ]
    },
    {
     "data": {
      "application/vnd.jupyter.widget-view+json": {
       "model_id": "1342d20363af4dd0903375dbe62c1fc5",
       "version_major": 2,
       "version_minor": 0
      },
      "text/plain": [
       "  0%|          | 0/11 [00:00<?, ?it/s]"
      ]
     },
     "metadata": {},
     "output_type": "display_data"
    },
    {
     "name": "stdout",
     "output_type": "stream",
     "text": [
      "1 5 365 0.29717005567444665\n",
      "1 5 730 0.2739821035125125\n",
      "1 5 1095 0.2598836287975549\n",
      "1 5 1460 0.2493668029023832\n",
      "1 5 1825 0.2423929404556357\n",
      "1 5 2190 0.23705150766948752\n",
      "1 5 2555 0.23326268160230734\n",
      "1 5 2920 0.2301733440423402\n",
      "1 5 3285 0.22764745152648208\n",
      "1 5 3651 0.22538307260441393\n",
      "Loading competitor data from /network/group/aopp/predict/TIP016_PAXTON_RPSPEEDY/speedyone/paper/10yearWD/competitor_52RN/speedyone10yr_L2_52_RN_m6_WD\n"
     ]
    },
    {
     "data": {
      "application/vnd.jupyter.widget-view+json": {
       "model_id": "f673d7ad79a4468d97c98348d721c2a3",
       "version_major": 2,
       "version_minor": 0
      },
      "text/plain": [
       "  0%|          | 0/11 [00:00<?, ?it/s]"
      ]
     },
     "metadata": {},
     "output_type": "display_data"
    },
    {
     "name": "stdout",
     "output_type": "stream",
     "text": [
      "1 6 365 0.30165187180565983\n",
      "1 6 730 0.27821446366690894\n",
      "1 6 1095 0.26314368423022766\n",
      "1 6 1460 0.25238976270079844\n",
      "1 6 1825 0.24464887053611598\n",
      "1 6 2190 0.23864412259732978\n",
      "1 6 2555 0.23398042682447548\n",
      "1 6 2920 0.2303833423686074\n",
      "1 6 3285 0.22736234872144623\n",
      "1 6 3651 0.22491367632808254\n",
      "Loading competitor data from /network/group/aopp/predict/TIP016_PAXTON_RPSPEEDY/speedyone/paper/10yearWD/competitor_52RN/speedyone10yr_L2_52_RN_m7_WD\n"
     ]
    },
    {
     "data": {
      "application/vnd.jupyter.widget-view+json": {
       "model_id": "b209561da30c4626a6254f2f9eccff07",
       "version_major": 2,
       "version_minor": 0
      },
      "text/plain": [
       "  0%|          | 0/11 [00:00<?, ?it/s]"
      ]
     },
     "metadata": {},
     "output_type": "display_data"
    },
    {
     "name": "stdout",
     "output_type": "stream",
     "text": [
      "1 7 365 0.29387525303347495\n",
      "1 7 730 0.26979090652927923\n",
      "1 7 1095 0.2554057470783917\n",
      "1 7 1460 0.2455184448903291\n",
      "1 7 1825 0.2381165436741735\n",
      "1 7 2190 0.2322487316202015\n",
      "1 7 2555 0.22766398822619127\n",
      "1 7 2920 0.22414062942096435\n",
      "1 7 3285 0.22116929428621032\n",
      "1 7 3651 0.21865999724158947\n",
      "Loading competitor data from /network/group/aopp/predict/TIP016_PAXTON_RPSPEEDY/speedyone/paper/10yearWD/competitor_52RN/speedyone10yr_L2_52_RN_m8_WD\n"
     ]
    },
    {
     "data": {
      "application/vnd.jupyter.widget-view+json": {
       "model_id": "bf905e24d41247e29458f036db2a715c",
       "version_major": 2,
       "version_minor": 0
      },
      "text/plain": [
       "  0%|          | 0/11 [00:00<?, ?it/s]"
      ]
     },
     "metadata": {},
     "output_type": "display_data"
    },
    {
     "name": "stdout",
     "output_type": "stream",
     "text": [
      "1 8 365 0.29416197545571904\n",
      "1 8 730 0.2710275447729362\n",
      "1 8 1095 0.25575682732693805\n",
      "1 8 1460 0.24487263745513246\n",
      "1 8 1825 0.2372578687044802\n",
      "1 8 2190 0.23078484035123945\n",
      "1 8 2555 0.22607443368015323\n",
      "1 8 2920 0.22219238038363678\n",
      "1 8 3285 0.21942652981897354\n",
      "1 8 3651 0.21706167421620767\n",
      "Loading competitor data from /network/group/aopp/predict/TIP016_PAXTON_RPSPEEDY/speedyone/paper/10yearWD/competitor_52RN/speedyone10yr_L2_52_RN_m9_WD\n"
     ]
    },
    {
     "data": {
      "application/vnd.jupyter.widget-view+json": {
       "model_id": "7e67406e17c04364a97068d557969d50",
       "version_major": 2,
       "version_minor": 0
      },
      "text/plain": [
       "  0%|          | 0/11 [00:00<?, ?it/s]"
      ]
     },
     "metadata": {},
     "output_type": "display_data"
    },
    {
     "name": "stdout",
     "output_type": "stream",
     "text": [
      "1 9 365 0.28990989868453965\n",
      "1 9 730 0.26728607093469947\n",
      "1 9 1095 0.25238744310702\n",
      "1 9 1460 0.24180105420623577\n",
      "1 9 1825 0.23386204041317743\n",
      "1 9 2190 0.22817706434326013\n",
      "1 9 2555 0.22389025114573563\n",
      "1 9 2920 0.22049377929679656\n",
      "1 9 3285 0.21778508154087722\n",
      "1 9 3651 0.21541145688775828\n",
      "Loading control data from /network/group/aopp/predict/TIP016_PAXTON_RPSPEEDY/speedyone/paper/10yearWD/control/speedyone10yr_L2_52_RN_m2_WD\n"
     ]
    },
    {
     "data": {
      "application/vnd.jupyter.widget-view+json": {
       "model_id": "3d1610da22464d5f8feead3592f3e58e",
       "version_major": 2,
       "version_minor": 0
      },
      "text/plain": [
       "  0%|          | 0/11 [00:00<?, ?it/s]"
      ]
     },
     "metadata": {},
     "output_type": "display_data"
    },
    {
     "data": {
      "application/vnd.jupyter.widget-view+json": {
       "model_id": "3639204987e246cc8805d58a8be5b032",
       "version_major": 2,
       "version_minor": 0
      },
      "text/plain": [
       "  0%|          | 0/5 [00:00<?, ?it/s]"
      ]
     },
     "metadata": {},
     "output_type": "display_data"
    },
    {
     "name": "stdout",
     "output_type": "stream",
     "text": [
      "Loading competitor data from /network/group/aopp/predict/TIP016_PAXTON_RPSPEEDY/speedyone/paper/10yearWD/competitor_52RN/speedyone10yr_L2_52_RN_m5_WD\n"
     ]
    },
    {
     "data": {
      "application/vnd.jupyter.widget-view+json": {
       "model_id": "3fd766a8069c4d989c053ac8a7dd0cda",
       "version_major": 2,
       "version_minor": 0
      },
      "text/plain": [
       "  0%|          | 0/11 [00:00<?, ?it/s]"
      ]
     },
     "metadata": {},
     "output_type": "display_data"
    },
    {
     "name": "stdout",
     "output_type": "stream",
     "text": [
      "2 5 365 0.3118016472705787\n",
      "2 5 730 0.28750190011872845\n",
      "2 5 1095 0.27342686874515515\n",
      "2 5 1460 0.26232874780806054\n",
      "2 5 1825 0.255541829294958\n",
      "2 5 2190 0.24971986757009157\n",
      "2 5 2555 0.2456384214241406\n",
      "2 5 2920 0.24188591294840325\n",
      "2 5 3285 0.2391990644564791\n",
      "2 5 3651 0.2364736096568675\n",
      "Loading competitor data from /network/group/aopp/predict/TIP016_PAXTON_RPSPEEDY/speedyone/paper/10yearWD/competitor_52RN/speedyone10yr_L2_52_RN_m6_WD\n"
     ]
    },
    {
     "data": {
      "application/vnd.jupyter.widget-view+json": {
       "model_id": "affcee067ca64299a6059852bbad2f99",
       "version_major": 2,
       "version_minor": 0
      },
      "text/plain": [
       "  0%|          | 0/11 [00:00<?, ?it/s]"
      ]
     },
     "metadata": {},
     "output_type": "display_data"
    },
    {
     "name": "stdout",
     "output_type": "stream",
     "text": [
      "2 6 365 0.301183724303\n",
      "2 6 730 0.2787390072242424\n",
      "2 6 1095 0.2644146688610878\n",
      "2 6 1460 0.25399500056150187\n",
      "2 6 1825 0.24634018773172517\n",
      "2 6 2190 0.24052333050873007\n",
      "2 6 2555 0.23581414850142274\n",
      "2 6 2920 0.23210703259750629\n",
      "2 6 3285 0.229202450315312\n",
      "2 6 3651 0.2265538289957368\n",
      "Loading competitor data from /network/group/aopp/predict/TIP016_PAXTON_RPSPEEDY/speedyone/paper/10yearWD/competitor_52RN/speedyone10yr_L2_52_RN_m7_WD\n"
     ]
    },
    {
     "data": {
      "application/vnd.jupyter.widget-view+json": {
       "model_id": "cc0cdd9d8bbf42e39475cfc5fa374150",
       "version_major": 2,
       "version_minor": 0
      },
      "text/plain": [
       "  0%|          | 0/11 [00:00<?, ?it/s]"
      ]
     },
     "metadata": {},
     "output_type": "display_data"
    },
    {
     "name": "stdout",
     "output_type": "stream",
     "text": [
      "2 7 365 0.2949294321120999\n",
      "2 7 730 0.2718437280535246\n",
      "2 7 1095 0.25821678055059333\n",
      "2 7 1460 0.2477956003882581\n",
      "2 7 1825 0.24088939706505888\n",
      "2 7 2190 0.23508512141278093\n",
      "2 7 2555 0.2308028904179625\n",
      "2 7 2920 0.22722014073903893\n",
      "2 7 3285 0.2243122757948055\n",
      "2 7 3651 0.22184862431800273\n",
      "Loading competitor data from /network/group/aopp/predict/TIP016_PAXTON_RPSPEEDY/speedyone/paper/10yearWD/competitor_52RN/speedyone10yr_L2_52_RN_m8_WD\n"
     ]
    },
    {
     "data": {
      "application/vnd.jupyter.widget-view+json": {
       "model_id": "abfc768933cb4a0cac261614659048a5",
       "version_major": 2,
       "version_minor": 0
      },
      "text/plain": [
       "  0%|          | 0/11 [00:00<?, ?it/s]"
      ]
     },
     "metadata": {},
     "output_type": "display_data"
    },
    {
     "name": "stdout",
     "output_type": "stream",
     "text": [
      "2 8 365 0.30452558582279554\n",
      "2 8 730 0.28202417635056093\n",
      "2 8 1095 0.2670437066953951\n",
      "2 8 1460 0.25597937391246994\n",
      "2 8 1825 0.24846379495509868\n",
      "2 8 2190 0.2424974082313885\n",
      "2 8 2555 0.23808665280199057\n",
      "2 8 2920 0.2346066290695313\n",
      "2 8 3285 0.23180137450347457\n",
      "2 8 3651 0.229157619048977\n",
      "Loading competitor data from /network/group/aopp/predict/TIP016_PAXTON_RPSPEEDY/speedyone/paper/10yearWD/competitor_52RN/speedyone10yr_L2_52_RN_m9_WD\n"
     ]
    },
    {
     "data": {
      "application/vnd.jupyter.widget-view+json": {
       "model_id": "f25ae927b96641b097c88c6d85f17361",
       "version_major": 2,
       "version_minor": 0
      },
      "text/plain": [
       "  0%|          | 0/11 [00:00<?, ?it/s]"
      ]
     },
     "metadata": {},
     "output_type": "display_data"
    },
    {
     "name": "stdout",
     "output_type": "stream",
     "text": [
      "2 9 365 0.30185671105037415\n",
      "2 9 730 0.27839919963354975\n",
      "2 9 1095 0.2647262297120571\n",
      "2 9 1460 0.25374077285078295\n",
      "2 9 1825 0.2463919227602695\n",
      "2 9 2190 0.24093981263846764\n",
      "2 9 2555 0.23710753619780853\n",
      "2 9 2920 0.2340349437763365\n",
      "2 9 3285 0.23159188314948334\n",
      "2 9 3651 0.22923874242414163\n",
      "Loading control data from /network/group/aopp/predict/TIP016_PAXTON_RPSPEEDY/speedyone/paper/10yearWD/control/speedyone10yr_L2_52_RN_m3_WD\n"
     ]
    },
    {
     "data": {
      "application/vnd.jupyter.widget-view+json": {
       "model_id": "7d36f5720d0746e3bc9050b5ff9afa7d",
       "version_major": 2,
       "version_minor": 0
      },
      "text/plain": [
       "  0%|          | 0/11 [00:00<?, ?it/s]"
      ]
     },
     "metadata": {},
     "output_type": "display_data"
    },
    {
     "data": {
      "application/vnd.jupyter.widget-view+json": {
       "model_id": "ad9197f6f31548a58f8c66fbff8c2730",
       "version_major": 2,
       "version_minor": 0
      },
      "text/plain": [
       "  0%|          | 0/5 [00:00<?, ?it/s]"
      ]
     },
     "metadata": {},
     "output_type": "display_data"
    },
    {
     "name": "stdout",
     "output_type": "stream",
     "text": [
      "Loading competitor data from /network/group/aopp/predict/TIP016_PAXTON_RPSPEEDY/speedyone/paper/10yearWD/competitor_52RN/speedyone10yr_L2_52_RN_m5_WD\n"
     ]
    },
    {
     "data": {
      "application/vnd.jupyter.widget-view+json": {
       "model_id": "dea65fc1e2954fedb6e8f18dbdbd4f05",
       "version_major": 2,
       "version_minor": 0
      },
      "text/plain": [
       "  0%|          | 0/11 [00:00<?, ?it/s]"
      ]
     },
     "metadata": {},
     "output_type": "display_data"
    },
    {
     "name": "stdout",
     "output_type": "stream",
     "text": [
      "3 5 365 0.2997241462549839\n",
      "3 5 730 0.2753977500905309\n",
      "3 5 1095 0.26093978443399\n",
      "3 5 1460 0.250945619458937\n",
      "3 5 1825 0.24398296628304988\n",
      "3 5 2190 0.23885537527662296\n",
      "3 5 2555 0.2348191897540491\n",
      "3 5 2920 0.23178828950921057\n",
      "3 5 3285 0.22916787639692732\n",
      "3 5 3651 0.2267715935245043\n",
      "Loading competitor data from /network/group/aopp/predict/TIP016_PAXTON_RPSPEEDY/speedyone/paper/10yearWD/competitor_52RN/speedyone10yr_L2_52_RN_m6_WD\n"
     ]
    },
    {
     "data": {
      "application/vnd.jupyter.widget-view+json": {
       "model_id": "b928efd7932f4555925761dcd1aaa7fb",
       "version_major": 2,
       "version_minor": 0
      },
      "text/plain": [
       "  0%|          | 0/11 [00:00<?, ?it/s]"
      ]
     },
     "metadata": {},
     "output_type": "display_data"
    },
    {
     "name": "stdout",
     "output_type": "stream",
     "text": [
      "3 6 365 0.2926470107403738\n",
      "3 6 730 0.26998902544189285\n",
      "3 6 1095 0.25472773714906405\n",
      "3 6 1460 0.24440270556494\n",
      "3 6 1825 0.23681320947774104\n",
      "3 6 2190 0.2314703650162159\n",
      "3 6 2555 0.22676026555240172\n",
      "3 6 2920 0.22333554042876033\n",
      "3 6 3285 0.22007681000356832\n",
      "3 6 3651 0.21738644843014207\n",
      "Loading competitor data from /network/group/aopp/predict/TIP016_PAXTON_RPSPEEDY/speedyone/paper/10yearWD/competitor_52RN/speedyone10yr_L2_52_RN_m7_WD\n"
     ]
    },
    {
     "data": {
      "application/vnd.jupyter.widget-view+json": {
       "model_id": "b487a9c668d84c13bfea7f7b284532c7",
       "version_major": 2,
       "version_minor": 0
      },
      "text/plain": [
       "  0%|          | 0/11 [00:00<?, ?it/s]"
      ]
     },
     "metadata": {},
     "output_type": "display_data"
    },
    {
     "name": "stdout",
     "output_type": "stream",
     "text": [
      "3 7 365 0.27908767898497566\n",
      "3 7 730 0.2553567482554271\n",
      "3 7 1095 0.24079380432804479\n",
      "3 7 1460 0.2312681519997427\n",
      "3 7 1825 0.22421659817696207\n",
      "3 7 2190 0.21920268744372784\n",
      "3 7 2555 0.21532495056470627\n",
      "3 7 2920 0.21216026627621878\n",
      "3 7 3285 0.2096551808801791\n",
      "3 7 3651 0.20724877767437624\n",
      "Loading competitor data from /network/group/aopp/predict/TIP016_PAXTON_RPSPEEDY/speedyone/paper/10yearWD/competitor_52RN/speedyone10yr_L2_52_RN_m8_WD\n"
     ]
    },
    {
     "data": {
      "application/vnd.jupyter.widget-view+json": {
       "model_id": "36eeee2151ad4f6794d5f74aba473632",
       "version_major": 2,
       "version_minor": 0
      },
      "text/plain": [
       "  0%|          | 0/11 [00:00<?, ?it/s]"
      ]
     },
     "metadata": {},
     "output_type": "display_data"
    },
    {
     "name": "stdout",
     "output_type": "stream",
     "text": [
      "3 8 365 0.29400012408035936\n",
      "3 8 730 0.2717663032468878\n",
      "3 8 1095 0.25765136014103035\n",
      "3 8 1460 0.24801989545882097\n",
      "3 8 1825 0.24110234576933243\n",
      "3 8 2190 0.23563818107457912\n",
      "3 8 2555 0.23140885369241326\n",
      "3 8 2920 0.22813245083427525\n",
      "3 8 3285 0.225324200527036\n",
      "3 8 3651 0.22304961539367815\n",
      "Loading competitor data from /network/group/aopp/predict/TIP016_PAXTON_RPSPEEDY/speedyone/paper/10yearWD/competitor_52RN/speedyone10yr_L2_52_RN_m9_WD\n"
     ]
    },
    {
     "data": {
      "application/vnd.jupyter.widget-view+json": {
       "model_id": "b927a3d331864dc092e8564537034cd9",
       "version_major": 2,
       "version_minor": 0
      },
      "text/plain": [
       "  0%|          | 0/11 [00:00<?, ?it/s]"
      ]
     },
     "metadata": {},
     "output_type": "display_data"
    },
    {
     "name": "stdout",
     "output_type": "stream",
     "text": [
      "3 9 365 0.2823419937840285\n",
      "3 9 730 0.26027868501275164\n",
      "3 9 1095 0.24561899716814958\n",
      "3 9 1460 0.23597448700002863\n",
      "3 9 1825 0.2285518409327798\n",
      "3 9 2190 0.22346942421642277\n",
      "3 9 2555 0.21918859756540943\n",
      "3 9 2920 0.21585712436425197\n",
      "3 9 3285 0.21282126959542497\n",
      "3 9 3651 0.21020652747596372\n",
      "Loading control data from /network/group/aopp/predict/TIP016_PAXTON_RPSPEEDY/speedyone/paper/10yearWD/control/speedyone10yr_L2_52_RN_m4_WD\n"
     ]
    },
    {
     "data": {
      "application/vnd.jupyter.widget-view+json": {
       "model_id": "37f64f56a31d489db5dcfd5d925e70b9",
       "version_major": 2,
       "version_minor": 0
      },
      "text/plain": [
       "  0%|          | 0/11 [00:00<?, ?it/s]"
      ]
     },
     "metadata": {},
     "output_type": "display_data"
    },
    {
     "data": {
      "application/vnd.jupyter.widget-view+json": {
       "model_id": "52c918d12b374112b2f16a06d203e980",
       "version_major": 2,
       "version_minor": 0
      },
      "text/plain": [
       "  0%|          | 0/5 [00:00<?, ?it/s]"
      ]
     },
     "metadata": {},
     "output_type": "display_data"
    },
    {
     "name": "stdout",
     "output_type": "stream",
     "text": [
      "Loading competitor data from /network/group/aopp/predict/TIP016_PAXTON_RPSPEEDY/speedyone/paper/10yearWD/competitor_52RN/speedyone10yr_L2_52_RN_m5_WD\n"
     ]
    },
    {
     "data": {
      "application/vnd.jupyter.widget-view+json": {
       "model_id": "bfb0b936bae34adea9ee367736fe7fa2",
       "version_major": 2,
       "version_minor": 0
      },
      "text/plain": [
       "  0%|          | 0/11 [00:00<?, ?it/s]"
      ]
     },
     "metadata": {},
     "output_type": "display_data"
    },
    {
     "name": "stdout",
     "output_type": "stream",
     "text": [
      "4 5 365 0.30367506142716727\n",
      "4 5 730 0.2800245632003555\n",
      "4 5 1095 0.2659715574638415\n",
      "4 5 1460 0.2562576286391272\n",
      "4 5 1825 0.249339318794913\n",
      "4 5 2190 0.24387176386483989\n",
      "4 5 2555 0.23951537920160926\n",
      "4 5 2920 0.2361735723699698\n",
      "4 5 3285 0.2331226450671448\n",
      "4 5 3651 0.2305484136983498\n",
      "Loading competitor data from /network/group/aopp/predict/TIP016_PAXTON_RPSPEEDY/speedyone/paper/10yearWD/competitor_52RN/speedyone10yr_L2_52_RN_m6_WD\n"
     ]
    },
    {
     "data": {
      "application/vnd.jupyter.widget-view+json": {
       "model_id": "0c2e549127a047649b1dd40b63019051",
       "version_major": 2,
       "version_minor": 0
      },
      "text/plain": [
       "  0%|          | 0/11 [00:00<?, ?it/s]"
      ]
     },
     "metadata": {},
     "output_type": "display_data"
    },
    {
     "name": "stdout",
     "output_type": "stream",
     "text": [
      "4 6 365 0.29689698821788274\n",
      "4 6 730 0.27406584960300034\n",
      "4 6 1095 0.2593263610516135\n",
      "4 6 1460 0.24932034410066997\n",
      "4 6 1825 0.24135136669091642\n",
      "4 6 2190 0.23562945027407453\n",
      "4 6 2555 0.2310417620977424\n",
      "4 6 2920 0.22767913978597917\n",
      "4 6 3285 0.22457695214439674\n",
      "4 6 3651 0.22207012896104417\n",
      "Loading competitor data from /network/group/aopp/predict/TIP016_PAXTON_RPSPEEDY/speedyone/paper/10yearWD/competitor_52RN/speedyone10yr_L2_52_RN_m7_WD\n"
     ]
    },
    {
     "data": {
      "application/vnd.jupyter.widget-view+json": {
       "model_id": "af77164590444da99168b23481c98239",
       "version_major": 2,
       "version_minor": 0
      },
      "text/plain": [
       "  0%|          | 0/11 [00:00<?, ?it/s]"
      ]
     },
     "metadata": {},
     "output_type": "display_data"
    },
    {
     "name": "stdout",
     "output_type": "stream",
     "text": [
      "4 7 365 0.2879998594367603\n",
      "4 7 730 0.2635069633683217\n",
      "4 7 1095 0.24824205360976961\n",
      "4 7 1460 0.23741991226984815\n",
      "4 7 1825 0.22954597793867595\n",
      "4 7 2190 0.22332348450950232\n",
      "4 7 2555 0.21870453251675515\n",
      "4 7 2920 0.21498529937609245\n",
      "4 7 3285 0.21178855469155838\n",
      "4 7 3651 0.20905279529524312\n",
      "Loading competitor data from /network/group/aopp/predict/TIP016_PAXTON_RPSPEEDY/speedyone/paper/10yearWD/competitor_52RN/speedyone10yr_L2_52_RN_m8_WD\n"
     ]
    },
    {
     "data": {
      "application/vnd.jupyter.widget-view+json": {
       "model_id": "ddac00f9e67c40cbab8aefd82b425ae8",
       "version_major": 2,
       "version_minor": 0
      },
      "text/plain": [
       "  0%|          | 0/11 [00:00<?, ?it/s]"
      ]
     },
     "metadata": {},
     "output_type": "display_data"
    },
    {
     "name": "stdout",
     "output_type": "stream",
     "text": [
      "4 8 365 0.3007114529847279\n",
      "4 8 730 0.2780077644912311\n",
      "4 8 1095 0.2637550888571316\n",
      "4 8 1460 0.25417092762478155\n",
      "4 8 1825 0.24654486613311613\n",
      "4 8 2190 0.2407913791036618\n",
      "4 8 2555 0.23625028633278733\n",
      "4 8 2920 0.2325977087853573\n",
      "4 8 3285 0.2294329030759593\n",
      "4 8 3651 0.22680339754672524\n",
      "Loading competitor data from /network/group/aopp/predict/TIP016_PAXTON_RPSPEEDY/speedyone/paper/10yearWD/competitor_52RN/speedyone10yr_L2_52_RN_m9_WD\n"
     ]
    },
    {
     "data": {
      "application/vnd.jupyter.widget-view+json": {
       "model_id": "ad06455263aa479282c9f21937446259",
       "version_major": 2,
       "version_minor": 0
      },
      "text/plain": [
       "  0%|          | 0/11 [00:00<?, ?it/s]"
      ]
     },
     "metadata": {},
     "output_type": "display_data"
    },
    {
     "name": "stdout",
     "output_type": "stream",
     "text": [
      "4 9 365 0.29143056960341074\n",
      "4 9 730 0.26952735971690445\n",
      "4 9 1095 0.25509569439586094\n",
      "4 9 1460 0.24522651621154187\n",
      "4 9 1825 0.23760511803943693\n",
      "4 9 2190 0.23199498615423833\n",
      "4 9 2555 0.22715863483909995\n",
      "4 9 2920 0.22378027830458594\n",
      "4 9 3285 0.22047936098653864\n",
      "4 9 3651 0.21793322338313093\n"
     ]
    }
   ],
   "source": [
    "#52RN\n",
    "output52 = compare_ensemble_against_control(control_dirs,competitor52,columns)\n",
    "np.save(root+'52RN_WD.npy',output52)"
   ]
  },
  {
   "cell_type": "code",
   "execution_count": 68,
   "id": "6383c047-f429-45ef-bbc1-8b4b9caa924f",
   "metadata": {},
   "outputs": [
    {
     "name": "stdout",
     "output_type": "stream",
     "text": [
      "Loading competitor data from /network/group/aopp/predict/TIP016_PAXTON_RPSPEEDY/speedyone/paper/10yearWD/competitor_10SR/speedyone10yr_L2_10_SR_m5_WD\n"
     ]
    },
    {
     "data": {
      "application/vnd.jupyter.widget-view+json": {
       "model_id": "adf78e9e09c54d1d8ae9e729a71f1e39",
       "version_major": 2,
       "version_minor": 0
      },
      "text/plain": [
       "  0%|          | 0/11 [00:00<?, ?it/s]"
      ]
     },
     "metadata": {},
     "output_type": "display_data"
    },
    {
     "name": "stdout",
     "output_type": "stream",
     "text": [
      "Loading competitor data from /network/group/aopp/predict/TIP016_PAXTON_RPSPEEDY/speedyone/paper/10yearWD/competitor_10SR/speedyone10yr_L2_10_SR_m6_WD\n"
     ]
    },
    {
     "data": {
      "application/vnd.jupyter.widget-view+json": {
       "model_id": "b941495761da42e9beca73b5faf49ba1",
       "version_major": 2,
       "version_minor": 0
      },
      "text/plain": [
       "  0%|          | 0/11 [00:00<?, ?it/s]"
      ]
     },
     "metadata": {},
     "output_type": "display_data"
    },
    {
     "name": "stdout",
     "output_type": "stream",
     "text": [
      "Loading competitor data from /network/group/aopp/predict/TIP016_PAXTON_RPSPEEDY/speedyone/paper/10yearWD/competitor_10SR/speedyone10yr_L2_10_SR_m7_WD\n"
     ]
    },
    {
     "data": {
      "application/vnd.jupyter.widget-view+json": {
       "model_id": "65003dc6fba7411ca5a58c0ea29b8886",
       "version_major": 2,
       "version_minor": 0
      },
      "text/plain": [
       "  0%|          | 0/11 [00:00<?, ?it/s]"
      ]
     },
     "metadata": {},
     "output_type": "display_data"
    },
    {
     "name": "stdout",
     "output_type": "stream",
     "text": [
      "Loading competitor data from /network/group/aopp/predict/TIP016_PAXTON_RPSPEEDY/speedyone/paper/10yearWD/competitor_10SR/speedyone10yr_L2_10_SR_m8_WD\n"
     ]
    },
    {
     "data": {
      "application/vnd.jupyter.widget-view+json": {
       "model_id": "381dfd8e01d64a7eb0a79c4c36b569fd",
       "version_major": 2,
       "version_minor": 0
      },
      "text/plain": [
       "  0%|          | 0/11 [00:00<?, ?it/s]"
      ]
     },
     "metadata": {},
     "output_type": "display_data"
    }
   ],
   "source": [
    "\n",
    "#Get weights\n",
    "weights,latitude = get_global_weights()\n",
    "\n",
    "\n",
    "\n",
    "\n",
    "\n",
    "\n",
    "def get_arrray_of_data(i):\n",
    "    df_i = process_directory(i,weights,latitude,columns)\n",
    "    #Get the dimensions: x,y,time\n",
    "    long_idx = df_i.index.unique(level='longitude') #length 96\n",
    "    lat_idx = df_i.index.unique(level='latitude') #length 48\n",
    "    t_idx = df_i.index.unique(level='forecast_period') #length 3651\n",
    "\n",
    "        \n",
    "    ensemble_number_control = i.split('_m')[-1][0]\n",
    "    \n",
    "    #Convert to a numpy array\n",
    "    np_control = np.array(df_i.values.reshape(len(long_idx),len(lat_idx),len(t_idx)))\n",
    "\n",
    "    return np_control\n",
    "    \n",
    "    \n",
    "    control_arrays.append(np_control)\n",
    "    \n",
    "    \n",
    "# #Get control dirs\n",
    "# control_arrays = []\n",
    "# for i in control_dirs:\n",
    "#     print ('Loading control data from', i)\n",
    "#     np_control = get_arrray_of_data(i)\n",
    "#     control_arrays.append(np_control)\n",
    "\n",
    "# #Get competitor dirs\n",
    "# competitor_arrays = []\n",
    "# for i in competitor52:\n",
    "#     print ('Loading competitor data from', i)\n",
    "#     np_control = get_arrray_of_data(i)\n",
    "#     competitor_arrays.append(np_control)\n",
    "    \n",
    "    \n",
    "#Get competitor dirs\n",
    "competitor_arrays = []\n",
    "for i in competitorSR:\n",
    "    print ('Loading competitor data from', i)\n",
    "    np_control = get_arrray_of_data(i)\n",
    "    competitor_arrays.append(np_control)\n",
    "    \n",
    "\n",
    "                "
   ]
  },
  {
   "cell_type": "code",
   "execution_count": 69,
   "id": "a1abf65a-e0f8-4958-828e-f7803ea6f1d0",
   "metadata": {},
   "outputs": [
    {
     "name": "stdout",
     "output_type": "stream",
     "text": [
      "0 0\n",
      "0 1\n",
      "0 2\n",
      "0 3\n",
      "1 0\n",
      "1 1\n",
      "1 2\n",
      "1 3\n",
      "2 0\n",
      "2 1\n",
      "2 2\n",
      "2 3\n",
      "3 0\n",
      "3 1\n",
      "3 2\n",
      "3 3\n",
      "4 0\n",
      "4 1\n",
      "4 2\n",
      "4 3\n"
     ]
    }
   ],
   "source": [
    "    \n",
    "number_of_years = 10\n",
    "number_of_days = 3651\n",
    "\n",
    "\n",
    "out_array = np.zeros((number_of_years*len(control_dirs)*len(competitor52),4))\n",
    "global_counter = 0\n",
    "\n",
    "for i in range(len(control_arrays)):\n",
    "    for j in range(len(competitor_arrays)):\n",
    "        print (i,j)\n",
    "        \n",
    "        np_control = control_arrays[i]\n",
    "        np_competitor = competitor_arrays[j]\n",
    "                  \n",
    "        for t in range(1,number_of_years+1):\n",
    "            #print('t =', t)\n",
    "            tfactor = int(t * number_of_days/number_of_years)\n",
    "            wasserstein_t_weighted = [] #All the WDs for those GPs at time t\n",
    "            for k in range(96):\n",
    "                for m in range(48):\n",
    "                    wasserstein= wd(np_competitor[k,m,0:tfactor], np_control[k,m,0:tfactor])\n",
    "                    wasserstein_weighted = weights[m].values*wasserstein #Weight the value by the latitude weight\n",
    "                    wasserstein_t_weighted.extend([wasserstein_weighted])\n",
    "    \n",
    "\n",
    "    \n",
    "            out_array[global_counter,:] = i,j,tfactor, np.mean(wasserstein_t_weighted)\n",
    "            global_counter = global_counter +1\n",
    "    "
   ]
  },
  {
   "cell_type": "code",
   "execution_count": 70,
   "id": "1704b953-2705-4c3a-beea-a78816894f7e",
   "metadata": {},
   "outputs": [],
   "source": [
    "np.save(root+'10SR_WD.npy',out_array)"
   ]
  },
  {
   "cell_type": "code",
   "execution_count": 49,
   "id": "fc58f6a3-db44-451e-8331-5cfff349737e",
   "metadata": {},
   "outputs": [
    {
     "data": {
      "text/plain": [
       "0.25"
      ]
     },
     "execution_count": 49,
     "metadata": {},
     "output_type": "execute_result"
    }
   ],
   "source": [
    "wasserstein"
   ]
  },
  {
   "cell_type": "code",
   "execution_count": 51,
   "id": "9cff1331-0c6c-40df-8e89-125478acc462",
   "metadata": {},
   "outputs": [
    {
     "ename": "TypeError",
     "evalue": "Field elements must be 2- or 3-tuples, got '1'",
     "output_type": "error",
     "traceback": [
      "\u001b[0;31m---------------------------------------------------------------------------\u001b[0m",
      "\u001b[0;31mTypeError\u001b[0m                                 Traceback (most recent call last)",
      "\u001b[0;32m/tmp/ipykernel_54800/2546287021.py\u001b[0m in \u001b[0;36m<module>\u001b[0;34m\u001b[0m\n\u001b[0;32m----> 1\u001b[0;31m \u001b[0muval\u001b[0m \u001b[0;34m=\u001b[0m \u001b[0mnp\u001b[0m\u001b[0;34m.\u001b[0m\u001b[0marray\u001b[0m\u001b[0;34m(\u001b[0m\u001b[0;34m[\u001b[0m\u001b[0;36m1\u001b[0m\u001b[0;34m,\u001b[0m\u001b[0;36m2\u001b[0m\u001b[0;34m,\u001b[0m\u001b[0;36m3\u001b[0m\u001b[0;34m,\u001b[0m\u001b[0;36m4\u001b[0m\u001b[0;34m]\u001b[0m\u001b[0;34m,\u001b[0m\u001b[0;34m[\u001b[0m\u001b[0;36m1\u001b[0m\u001b[0;34m,\u001b[0m\u001b[0;36m2\u001b[0m\u001b[0;34m,\u001b[0m\u001b[0;36m3\u001b[0m\u001b[0;34m,\u001b[0m\u001b[0;36m4\u001b[0m\u001b[0;34m]\u001b[0m\u001b[0;34m)\u001b[0m\u001b[0;34m\u001b[0m\u001b[0;34m\u001b[0m\u001b[0m\n\u001b[0m\u001b[1;32m      2\u001b[0m \u001b[0mvval\u001b[0m \u001b[0;34m=\u001b[0m \u001b[0mnp\u001b[0m\u001b[0;34m.\u001b[0m\u001b[0marray\u001b[0m\u001b[0;34m(\u001b[0m\u001b[0;34m[\u001b[0m\u001b[0;36m1\u001b[0m\u001b[0;34m,\u001b[0m\u001b[0;36m2\u001b[0m\u001b[0;34m,\u001b[0m\u001b[0;36m3\u001b[0m\u001b[0;34m,\u001b[0m\u001b[0;36m4\u001b[0m\u001b[0;34m]\u001b[0m\u001b[0;34m,\u001b[0m\u001b[0;34m[\u001b[0m\u001b[0;36m1\u001b[0m\u001b[0;34m,\u001b[0m\u001b[0;36m2\u001b[0m\u001b[0;34m,\u001b[0m\u001b[0;36m3\u001b[0m\u001b[0;34m,\u001b[0m\u001b[0;36m4\u001b[0m\u001b[0;34m]\u001b[0m\u001b[0;34m)\u001b[0m\u001b[0;34m\u001b[0m\u001b[0;34m\u001b[0m\u001b[0m\n\u001b[1;32m      3\u001b[0m \u001b[0mwasserstein\u001b[0m\u001b[0;34m=\u001b[0m \u001b[0mwd\u001b[0m\u001b[0;34m(\u001b[0m\u001b[0muval\u001b[0m\u001b[0;34m,\u001b[0m \u001b[0mvval\u001b[0m\u001b[0;34m)\u001b[0m\u001b[0;34m\u001b[0m\u001b[0;34m\u001b[0m\u001b[0m\n",
      "\u001b[0;31mTypeError\u001b[0m: Field elements must be 2- or 3-tuples, got '1'"
     ]
    }
   ],
   "source": [
    "uval = np.array([1,2,3,4],[1,2,3,4])\n",
    "vval = np.array([1,2,3,4],[1,2,3,4])\n",
    "wasserstein= wd(uval, vval)"
   ]
  },
  {
   "cell_type": "code",
   "execution_count": 52,
   "id": "9a0ddabf-2664-42de-a4a5-4f2ab316dcf9",
   "metadata": {},
   "outputs": [
    {
     "data": {
      "text/plain": [
       "array([1, 2, 3, 4])"
      ]
     },
     "execution_count": 52,
     "metadata": {},
     "output_type": "execute_result"
    }
   ],
   "source": [
    "uval"
   ]
  },
  {
   "cell_type": "code",
   "execution_count": 32,
   "id": "badfd772-4277-438f-9106-a62f4341e40c",
   "metadata": {},
   "outputs": [
    {
     "data": {
      "text/plain": [
       "['/network/group/aopp/predict/TIP016_PAXTON_RPSPEEDY/speedyone/paper/10yearWD/competitor_10SR/speedyone10yr_L2_10_SR_m5_WD',\n",
       " '/network/group/aopp/predict/TIP016_PAXTON_RPSPEEDY/speedyone/paper/10yearWD/competitor_10SR/speedyone10yr_L2_10_SR_m6_WD',\n",
       " '/network/group/aopp/predict/TIP016_PAXTON_RPSPEEDY/speedyone/paper/10yearWD/competitor_10SR/speedyone10yr_L2_10_SR_m7_WD',\n",
       " '/network/group/aopp/predict/TIP016_PAXTON_RPSPEEDY/speedyone/paper/10yearWD/competitor_10SR/speedyone10yr_L2_10_SR_m8_WD']"
      ]
     },
     "execution_count": 32,
     "metadata": {},
     "output_type": "execute_result"
    }
   ],
   "source": [
    "#10SR\n",
    "outputSR = compare_ensemble_against_control(control_dirs,competitorSR,columns)\n",
    "np.save(root+'10SR_WD.npy',outputSR)"
   ]
  },
  {
   "cell_type": "markdown",
   "id": "61c59d7b-d67a-463d-9939-e9d2a62550ca",
   "metadata": {},
   "source": [
    "# Process all ensemble members"
   ]
  },
  {
   "cell_type": "code",
   "execution_count": 59,
   "id": "fe2da157-b4e1-47de-8d66-64ed3f4df594",
   "metadata": {},
   "outputs": [],
   "source": [
    "data = np.load(root+'52RN_WD.npy')\n",
    "\n",
    "df = pd.DataFrame({'Control': data[:, 0], 'Competitor': data[:, 1], 'Time':data[:, 2],'WD': data[:, 3]})\n",
    "#Convert time to years\n",
    "df['Time'] = df['Time'] / 365 \n",
    "\n",
    "#Average over each competitor\n",
    "dfmean = df.groupby(['Time']).mean().drop(['Control','Competitor'],axis=1)\n",
    "dfmean['precision'] = '52_RN'"
   ]
  },
  {
   "cell_type": "code",
   "execution_count": 71,
   "id": "d1d2a2f1-a6c6-4821-a63b-c0c606396286",
   "metadata": {},
   "outputs": [],
   "source": [
    "data = np.load(root+'10SR_WD.npy')\n",
    "\n",
    "df = pd.DataFrame({'Control': data[:, 0], 'Competitor': data[:, 1], 'Time':data[:, 2],'WD': data[:, 3]})\n",
    "#Convert time to years\n",
    "df['Time'] = df['Time'] / 365 \n",
    "\n",
    "#Average over each competitor\n",
    "dfmean2 = df.groupby(['Time']).mean().drop(['Control','Competitor'],axis=1)\n",
    "dfmean2['precision'] = '10_SR'"
   ]
  },
  {
   "cell_type": "code",
   "execution_count": 80,
   "id": "643fbd89-db3e-4c47-b36e-aa59801ffebf",
   "metadata": {},
   "outputs": [],
   "source": [
    "dfmean2 = dfmean2.drop([0.0])"
   ]
  },
  {
   "cell_type": "code",
   "execution_count": 81,
   "id": "728a25b9-92a5-483e-92d8-4295d692b583",
   "metadata": {},
   "outputs": [],
   "source": [
    "dfp = pd.concat([dfmean, dfmean2]).reset_index()"
   ]
  },
  {
   "cell_type": "code",
   "execution_count": 82,
   "id": "a167a0a6-e466-46c3-bddd-a63d7a56f4cc",
   "metadata": {},
   "outputs": [],
   "source": [
    "def plot_WD(df):\n",
    "    #Setup plot env\n",
    "    #Setup plot env\n",
    "    h,w = 12,12\n",
    "\n",
    "    sns.set_theme(context='talk', \n",
    "                  style='ticks', \n",
    "                  palette='deep',\n",
    "                  rc={'figure.figsize':(h,w)}\n",
    "                  )\n",
    "\n",
    "    \n",
    "\n",
    "    \n",
    "    fig, ax1 = plt.subplots(nrows=1, ncols=1, sharex=True, figsize=(h,w))\n",
    "    \n",
    "\n",
    "    p = sns.lineplot(data=df, x=\"Time\", y=\"WD\",hue=\"precision\",ax=ax1,markers=True)\n",
    "\n",
    "    #Config\n",
    "    plt.subplots_adjust(wspace=0.1, hspace=0)\n",
    "\n",
    "    ax1.set_ylabel(\"Wasserstein distance (K)\")#, fontsize = 20)\n",
    "    ax1.set_xlabel(\"Time (years)\")#, fontsize = 20)\n",
    "   \n",
    "\n",
    "    ax1.set_yscale('log')\n",
    "    ax1.set_xscale('log')\n",
    "    \n",
    "    #Other config\n",
    "    ax1.legend().set_title(None)\n",
    "   "
   ]
  },
  {
   "cell_type": "code",
   "execution_count": 83,
   "id": "0b671fe6-bba9-463c-81ce-99ea5144a62d",
   "metadata": {},
   "outputs": [
    {
     "name": "stderr",
     "output_type": "stream",
     "text": [
      "/home/k/kimpson/bin/conda/envs/workhorse/lib/python3.7/site-packages/scipy/io/netcdf.py:312: RuntimeWarning: Cannot close a netcdf_file opened with mmap=True, when netcdf_variables or arrays referring to its data still exist. All data arrays obtained from such files refer directly to data on disk, and must be copied before the file can be cleanly closed. (See netcdf_file docstring for more information on mmap.)\n",
      "  ), category=RuntimeWarning)\n"
     ]
    },
    {
     "data": {
      "image/png": "[encoded data removed]",
      "text/plain": [
       "<Figure size 864x864 with 1 Axes>"
      ]
     },
     "metadata": {},
     "output_type": "display_data"
    }
   ],
   "source": [
    "plot_WD(dfp)"
   ]
  },
  {
   "cell_type": "code",
   "execution_count": null,
   "id": "318b274c-2aac-4b00-a25b-47dd9b961b1d",
   "metadata": {},
   "outputs": [],
   "source": []
  }
 ],
 "metadata": {
  "kernelspec": {
   "display_name": "Python 3 (ipykernel)",
   "language": "python",
   "name": "python3"
  },
  "language_info": {
   "codemirror_mode": {
    "name": "ipython",
    "version": 3
   },
   "file_extension": ".py",
   "mimetype": "text/x-python",
   "name": "python",
   "nbconvert_exporter": "python",
   "pygments_lexer": "ipython3",
   "version": "3.7.12"
  }
 },
 "nbformat": 4,
 "nbformat_minor": 5
}
